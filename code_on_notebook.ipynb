{
 "cells": [
  {
   "cell_type": "markdown",
   "id": "953635c0",
   "metadata": {},
   "source": [
    "<h2><FONT COLOR=RED>IMPORTING THE DEPENDENCIES"
   ]
  },
  {
   "cell_type": "code",
   "execution_count": 2,
   "id": "ea03bb66",
   "metadata": {},
   "outputs": [],
   "source": [
    "import numpy as np\n",
    "import seaborn as sns\n",
    "import pandas as pd\n",
    "import matplotlib.pyplot as plt\n",
    "from sklearn import model_selection\n",
    "from sklearn import linear_model \n",
    "from sklearn import preprocessing \n",
    "from sklearn import metrics\n",
    "from sklearn import tree \n",
    "from sklearn.model_selection import train_test_split\n",
    "from sklearn import feature_selection\n",
    "from sklearn import svm\n",
    "from sklearn.metrics import accuracy_score\n",
    "from sklearn import ensemble\n",
    "from sklearn.metrics import accuracy_score, precision_score, recall_score, f1_score\n",
    "from sklearn.tree import DecisionTreeClassifier\n",
    "from sklearn.feature_selection import SelectFromModel"
   ]
  },
  {
   "cell_type": "markdown",
   "id": "c4d3171f",
   "metadata": {},
   "source": [
    "<h2><FONT COLOR=RED> DATA COLLECTION & START THE PROCESSING"
   ]
  },
  {
   "cell_type": "code",
   "execution_count": 3,
   "id": "6f9a743d",
   "metadata": {},
   "outputs": [
    {
     "data": {
      "text/html": [
       "<div>\n",
       "<style scoped>\n",
       "    .dataframe tbody tr th:only-of-type {\n",
       "        vertical-align: middle;\n",
       "    }\n",
       "\n",
       "    .dataframe tbody tr th {\n",
       "        vertical-align: top;\n",
       "    }\n",
       "\n",
       "    .dataframe thead th {\n",
       "        text-align: right;\n",
       "    }\n",
       "</style>\n",
       "<table border=\"1\" class=\"dataframe\">\n",
       "  <thead>\n",
       "    <tr style=\"text-align: right;\">\n",
       "      <th></th>\n",
       "      <th>Loan_ID</th>\n",
       "      <th>Gender</th>\n",
       "      <th>Married</th>\n",
       "      <th>Dependents</th>\n",
       "      <th>Education</th>\n",
       "      <th>Self_Employed</th>\n",
       "      <th>ApplicantIncome</th>\n",
       "      <th>CoapplicantIncome</th>\n",
       "      <th>LoanAmount</th>\n",
       "      <th>Loan_Amount_Term</th>\n",
       "      <th>Credit_History</th>\n",
       "      <th>Property_Area</th>\n",
       "      <th>Loan_Status</th>\n",
       "    </tr>\n",
       "  </thead>\n",
       "  <tbody>\n",
       "    <tr>\n",
       "      <th>0</th>\n",
       "      <td>LP001002</td>\n",
       "      <td>Male</td>\n",
       "      <td>No</td>\n",
       "      <td>0</td>\n",
       "      <td>Graduate</td>\n",
       "      <td>No</td>\n",
       "      <td>5849</td>\n",
       "      <td>0.0</td>\n",
       "      <td>NaN</td>\n",
       "      <td>360.0</td>\n",
       "      <td>1.0</td>\n",
       "      <td>Urban</td>\n",
       "      <td>Y</td>\n",
       "    </tr>\n",
       "    <tr>\n",
       "      <th>1</th>\n",
       "      <td>LP001003</td>\n",
       "      <td>Male</td>\n",
       "      <td>Yes</td>\n",
       "      <td>1</td>\n",
       "      <td>Graduate</td>\n",
       "      <td>No</td>\n",
       "      <td>4583</td>\n",
       "      <td>1508.0</td>\n",
       "      <td>128.0</td>\n",
       "      <td>360.0</td>\n",
       "      <td>1.0</td>\n",
       "      <td>Rural</td>\n",
       "      <td>N</td>\n",
       "    </tr>\n",
       "    <tr>\n",
       "      <th>2</th>\n",
       "      <td>LP001005</td>\n",
       "      <td>Male</td>\n",
       "      <td>Yes</td>\n",
       "      <td>0</td>\n",
       "      <td>Graduate</td>\n",
       "      <td>Yes</td>\n",
       "      <td>3000</td>\n",
       "      <td>0.0</td>\n",
       "      <td>66.0</td>\n",
       "      <td>360.0</td>\n",
       "      <td>1.0</td>\n",
       "      <td>Urban</td>\n",
       "      <td>Y</td>\n",
       "    </tr>\n",
       "    <tr>\n",
       "      <th>3</th>\n",
       "      <td>LP001006</td>\n",
       "      <td>Male</td>\n",
       "      <td>Yes</td>\n",
       "      <td>0</td>\n",
       "      <td>Not Graduate</td>\n",
       "      <td>No</td>\n",
       "      <td>2583</td>\n",
       "      <td>2358.0</td>\n",
       "      <td>120.0</td>\n",
       "      <td>360.0</td>\n",
       "      <td>1.0</td>\n",
       "      <td>Urban</td>\n",
       "      <td>Y</td>\n",
       "    </tr>\n",
       "    <tr>\n",
       "      <th>4</th>\n",
       "      <td>LP001008</td>\n",
       "      <td>Male</td>\n",
       "      <td>No</td>\n",
       "      <td>0</td>\n",
       "      <td>Graduate</td>\n",
       "      <td>No</td>\n",
       "      <td>6000</td>\n",
       "      <td>0.0</td>\n",
       "      <td>141.0</td>\n",
       "      <td>360.0</td>\n",
       "      <td>1.0</td>\n",
       "      <td>Urban</td>\n",
       "      <td>Y</td>\n",
       "    </tr>\n",
       "    <tr>\n",
       "      <th>...</th>\n",
       "      <td>...</td>\n",
       "      <td>...</td>\n",
       "      <td>...</td>\n",
       "      <td>...</td>\n",
       "      <td>...</td>\n",
       "      <td>...</td>\n",
       "      <td>...</td>\n",
       "      <td>...</td>\n",
       "      <td>...</td>\n",
       "      <td>...</td>\n",
       "      <td>...</td>\n",
       "      <td>...</td>\n",
       "      <td>...</td>\n",
       "    </tr>\n",
       "    <tr>\n",
       "      <th>609</th>\n",
       "      <td>LP002978</td>\n",
       "      <td>Female</td>\n",
       "      <td>No</td>\n",
       "      <td>0</td>\n",
       "      <td>Graduate</td>\n",
       "      <td>No</td>\n",
       "      <td>2900</td>\n",
       "      <td>0.0</td>\n",
       "      <td>71.0</td>\n",
       "      <td>360.0</td>\n",
       "      <td>1.0</td>\n",
       "      <td>Rural</td>\n",
       "      <td>Y</td>\n",
       "    </tr>\n",
       "    <tr>\n",
       "      <th>610</th>\n",
       "      <td>LP002979</td>\n",
       "      <td>Male</td>\n",
       "      <td>Yes</td>\n",
       "      <td>3+</td>\n",
       "      <td>Graduate</td>\n",
       "      <td>No</td>\n",
       "      <td>4106</td>\n",
       "      <td>0.0</td>\n",
       "      <td>40.0</td>\n",
       "      <td>180.0</td>\n",
       "      <td>1.0</td>\n",
       "      <td>Rural</td>\n",
       "      <td>Y</td>\n",
       "    </tr>\n",
       "    <tr>\n",
       "      <th>611</th>\n",
       "      <td>LP002983</td>\n",
       "      <td>Male</td>\n",
       "      <td>Yes</td>\n",
       "      <td>1</td>\n",
       "      <td>Graduate</td>\n",
       "      <td>No</td>\n",
       "      <td>8072</td>\n",
       "      <td>240.0</td>\n",
       "      <td>253.0</td>\n",
       "      <td>360.0</td>\n",
       "      <td>1.0</td>\n",
       "      <td>Urban</td>\n",
       "      <td>Y</td>\n",
       "    </tr>\n",
       "    <tr>\n",
       "      <th>612</th>\n",
       "      <td>LP002984</td>\n",
       "      <td>Male</td>\n",
       "      <td>Yes</td>\n",
       "      <td>2</td>\n",
       "      <td>Graduate</td>\n",
       "      <td>No</td>\n",
       "      <td>7583</td>\n",
       "      <td>0.0</td>\n",
       "      <td>187.0</td>\n",
       "      <td>360.0</td>\n",
       "      <td>1.0</td>\n",
       "      <td>Urban</td>\n",
       "      <td>Y</td>\n",
       "    </tr>\n",
       "    <tr>\n",
       "      <th>613</th>\n",
       "      <td>LP002990</td>\n",
       "      <td>Female</td>\n",
       "      <td>No</td>\n",
       "      <td>0</td>\n",
       "      <td>Graduate</td>\n",
       "      <td>Yes</td>\n",
       "      <td>4583</td>\n",
       "      <td>0.0</td>\n",
       "      <td>133.0</td>\n",
       "      <td>360.0</td>\n",
       "      <td>0.0</td>\n",
       "      <td>Semiurban</td>\n",
       "      <td>N</td>\n",
       "    </tr>\n",
       "  </tbody>\n",
       "</table>\n",
       "<p>614 rows × 13 columns</p>\n",
       "</div>"
      ],
      "text/plain": [
       "      Loan_ID  Gender Married Dependents     Education Self_Employed  \\\n",
       "0    LP001002    Male      No          0      Graduate            No   \n",
       "1    LP001003    Male     Yes          1      Graduate            No   \n",
       "2    LP001005    Male     Yes          0      Graduate           Yes   \n",
       "3    LP001006    Male     Yes          0  Not Graduate            No   \n",
       "4    LP001008    Male      No          0      Graduate            No   \n",
       "..        ...     ...     ...        ...           ...           ...   \n",
       "609  LP002978  Female      No          0      Graduate            No   \n",
       "610  LP002979    Male     Yes         3+      Graduate            No   \n",
       "611  LP002983    Male     Yes          1      Graduate            No   \n",
       "612  LP002984    Male     Yes          2      Graduate            No   \n",
       "613  LP002990  Female      No          0      Graduate           Yes   \n",
       "\n",
       "     ApplicantIncome  CoapplicantIncome  LoanAmount  Loan_Amount_Term  \\\n",
       "0               5849                0.0         NaN             360.0   \n",
       "1               4583             1508.0       128.0             360.0   \n",
       "2               3000                0.0        66.0             360.0   \n",
       "3               2583             2358.0       120.0             360.0   \n",
       "4               6000                0.0       141.0             360.0   \n",
       "..               ...                ...         ...               ...   \n",
       "609             2900                0.0        71.0             360.0   \n",
       "610             4106                0.0        40.0             180.0   \n",
       "611             8072              240.0       253.0             360.0   \n",
       "612             7583                0.0       187.0             360.0   \n",
       "613             4583                0.0       133.0             360.0   \n",
       "\n",
       "     Credit_History Property_Area Loan_Status  \n",
       "0               1.0         Urban           Y  \n",
       "1               1.0         Rural           N  \n",
       "2               1.0         Urban           Y  \n",
       "3               1.0         Urban           Y  \n",
       "4               1.0         Urban           Y  \n",
       "..              ...           ...         ...  \n",
       "609             1.0         Rural           Y  \n",
       "610             1.0         Rural           Y  \n",
       "611             1.0         Urban           Y  \n",
       "612             1.0         Urban           Y  \n",
       "613             0.0     Semiurban           N  \n",
       "\n",
       "[614 rows x 13 columns]"
      ]
     },
     "execution_count": 3,
     "metadata": {},
     "output_type": "execute_result"
    }
   ],
   "source": [
    "# loading the data to a pandas dataset\n",
    "df=pd.read_csv(\"F:/ML/loan_data_set.csv\")\n",
    "df"
   ]
  },
  {
   "cell_type": "code",
   "execution_count": 4,
   "id": "08467ef4",
   "metadata": {},
   "outputs": [
    {
     "data": {
      "text/plain": [
       "(614, 13)"
      ]
     },
     "execution_count": 4,
     "metadata": {},
     "output_type": "execute_result"
    }
   ],
   "source": [
    "# Number of rows & columns in the dataset\n",
    "df.shape"
   ]
  },
  {
   "cell_type": "code",
   "execution_count": 5,
   "id": "2d8f99ba",
   "metadata": {
    "scrolled": true
   },
   "outputs": [
    {
     "data": {
      "text/plain": [
       "Index(['ApplicantIncome', 'CoapplicantIncome', 'LoanAmount',\n",
       "       'Loan_Amount_Term', 'Credit_History'],\n",
       "      dtype='object')"
      ]
     },
     "execution_count": 5,
     "metadata": {},
     "output_type": "execute_result"
    }
   ],
   "source": [
    "#Defining numeric column\n",
    "cols = df.columns\n",
    "num_cols = df._get_numeric_data().columns\n",
    "num_cols"
   ]
  },
  {
   "cell_type": "code",
   "execution_count": 6,
   "id": "a7dd839f",
   "metadata": {},
   "outputs": [
    {
     "data": {
      "text/plain": [
       "['Self_Employed',\n",
       " 'Married',\n",
       " 'Loan_Status',\n",
       " 'Loan_ID',\n",
       " 'Property_Area',\n",
       " 'Dependents',\n",
       " 'Education',\n",
       " 'Gender']"
      ]
     },
     "execution_count": 6,
     "metadata": {},
     "output_type": "execute_result"
    }
   ],
   "source": [
    "#Listed columns\n",
    "list(set(cols) - set(num_cols))"
   ]
  },
  {
   "cell_type": "code",
   "execution_count": 7,
   "id": "922a3726",
   "metadata": {
    "scrolled": true
   },
   "outputs": [
    {
     "name": "stdout",
     "output_type": "stream",
     "text": [
      "ApplicantIncome is a continuous variable.\n",
      "CoapplicantIncome is a continuous variable.\n",
      "LoanAmount is a continuous variable.\n",
      "Loan_Amount_Term is a discrete variable with 10 unique values.\n",
      "Credit_History is a discrete variable with 2 unique values.\n"
     ]
    }
   ],
   "source": [
    "#Defining the discrete & continuous variable\n",
    "num_cols = df.select_dtypes(include='number').columns\n",
    "for col in num_cols:\n",
    "    unique_values = df[col].nunique()\n",
    "    if unique_values <=10:\n",
    "        print(f\"{col} is a discrete variable with {unique_values} unique values.\")\n",
    "    else:\n",
    "        print(f\"{col} is a continuous variable.\")"
   ]
  },
  {
   "cell_type": "code",
   "execution_count": 8,
   "id": "ba6f013a",
   "metadata": {
    "scrolled": false
   },
   "outputs": [
    {
     "name": "stdout",
     "output_type": "stream",
     "text": [
      "Unique labels for Loan_ID:\n",
      "LP001002\n",
      "LP001003\n",
      "LP001005\n",
      "LP001006\n",
      "LP001008\n",
      "LP001011\n",
      "LP001013\n",
      "LP001014\n",
      "LP001018\n",
      "LP001020\n",
      "LP001024\n",
      "LP001027\n",
      "LP001028\n",
      "LP001029\n",
      "LP001030\n",
      "LP001032\n",
      "LP001034\n",
      "LP001036\n",
      "LP001038\n",
      "LP001041\n",
      "LP001043\n",
      "LP001046\n",
      "LP001047\n",
      "LP001050\n",
      "LP001052\n",
      "LP001066\n",
      "LP001068\n",
      "LP001073\n",
      "LP001086\n",
      "LP001087\n",
      "LP001091\n",
      "LP001095\n",
      "LP001097\n",
      "LP001098\n",
      "LP001100\n",
      "LP001106\n",
      "LP001109\n",
      "LP001112\n",
      "LP001114\n",
      "LP001116\n",
      "LP001119\n",
      "LP001120\n",
      "LP001123\n",
      "LP001131\n",
      "LP001136\n",
      "LP001137\n",
      "LP001138\n",
      "LP001144\n",
      "LP001146\n",
      "LP001151\n",
      "LP001155\n",
      "LP001157\n",
      "LP001164\n",
      "LP001179\n",
      "LP001186\n",
      "LP001194\n",
      "LP001195\n",
      "LP001197\n",
      "LP001198\n",
      "LP001199\n",
      "LP001205\n",
      "LP001206\n",
      "LP001207\n",
      "LP001213\n",
      "LP001222\n",
      "LP001225\n",
      "LP001228\n",
      "LP001233\n",
      "LP001238\n",
      "LP001241\n",
      "LP001243\n",
      "LP001245\n",
      "LP001248\n",
      "LP001250\n",
      "LP001253\n",
      "LP001255\n",
      "LP001256\n",
      "LP001259\n",
      "LP001263\n",
      "LP001264\n",
      "LP001265\n",
      "LP001266\n",
      "LP001267\n",
      "LP001273\n",
      "LP001275\n",
      "LP001279\n",
      "LP001280\n",
      "LP001282\n",
      "LP001289\n",
      "LP001310\n",
      "LP001316\n",
      "LP001318\n",
      "LP001319\n",
      "LP001322\n",
      "LP001325\n",
      "LP001326\n",
      "LP001327\n",
      "LP001333\n",
      "LP001334\n",
      "LP001343\n",
      "LP001345\n",
      "LP001349\n",
      "LP001350\n",
      "LP001356\n",
      "LP001357\n",
      "LP001367\n",
      "LP001369\n",
      "LP001370\n",
      "LP001379\n",
      "LP001384\n",
      "LP001385\n",
      "LP001387\n",
      "LP001391\n",
      "LP001392\n",
      "LP001398\n",
      "LP001401\n",
      "LP001404\n",
      "LP001405\n",
      "LP001421\n",
      "LP001422\n",
      "LP001426\n",
      "LP001430\n",
      "LP001431\n",
      "LP001432\n",
      "LP001439\n",
      "LP001443\n",
      "LP001448\n",
      "LP001449\n",
      "LP001451\n",
      "LP001465\n",
      "LP001469\n",
      "LP001473\n",
      "LP001478\n",
      "LP001482\n",
      "LP001487\n",
      "LP001488\n",
      "LP001489\n",
      "LP001491\n",
      "LP001492\n",
      "LP001493\n",
      "LP001497\n",
      "LP001498\n",
      "LP001504\n",
      "LP001507\n",
      "LP001508\n",
      "LP001514\n",
      "LP001516\n",
      "LP001518\n",
      "LP001519\n",
      "LP001520\n",
      "LP001528\n",
      "LP001529\n",
      "LP001531\n",
      "LP001532\n",
      "LP001535\n",
      "LP001536\n",
      "LP001541\n",
      "LP001543\n",
      "LP001546\n",
      "LP001552\n",
      "LP001560\n",
      "LP001562\n",
      "LP001565\n",
      "LP001570\n",
      "LP001572\n",
      "LP001574\n",
      "LP001577\n",
      "LP001578\n",
      "LP001579\n",
      "LP001580\n",
      "LP001581\n",
      "LP001585\n",
      "LP001586\n",
      "LP001594\n",
      "LP001603\n",
      "LP001606\n",
      "LP001608\n",
      "LP001610\n",
      "LP001616\n",
      "LP001630\n",
      "LP001633\n",
      "LP001634\n",
      "LP001636\n",
      "LP001637\n",
      "LP001639\n",
      "LP001640\n",
      "LP001641\n",
      "LP001643\n",
      "LP001644\n",
      "LP001647\n",
      "LP001653\n",
      "LP001656\n",
      "LP001657\n",
      "LP001658\n",
      "LP001664\n",
      "LP001665\n",
      "LP001666\n",
      "LP001669\n",
      "LP001671\n",
      "LP001673\n",
      "LP001674\n",
      "LP001677\n",
      "LP001682\n",
      "LP001688\n",
      "LP001691\n",
      "LP001692\n",
      "LP001693\n",
      "LP001698\n",
      "LP001699\n",
      "LP001702\n",
      "LP001708\n",
      "LP001711\n",
      "LP001713\n",
      "LP001715\n",
      "LP001716\n",
      "LP001720\n",
      "LP001722\n",
      "LP001726\n",
      "LP001732\n",
      "LP001734\n",
      "LP001736\n",
      "LP001743\n",
      "LP001744\n",
      "LP001749\n",
      "LP001750\n",
      "LP001751\n",
      "LP001754\n",
      "LP001758\n",
      "LP001760\n",
      "LP001761\n",
      "LP001765\n",
      "LP001768\n",
      "LP001770\n",
      "LP001776\n",
      "LP001778\n",
      "LP001784\n",
      "LP001786\n",
      "LP001788\n",
      "LP001790\n",
      "LP001792\n",
      "LP001798\n",
      "LP001800\n",
      "LP001806\n",
      "LP001807\n",
      "LP001811\n",
      "LP001813\n",
      "LP001814\n",
      "LP001819\n",
      "LP001824\n",
      "LP001825\n",
      "LP001835\n",
      "LP001836\n",
      "LP001841\n",
      "LP001843\n",
      "LP001844\n",
      "LP001846\n",
      "LP001849\n",
      "LP001854\n",
      "LP001859\n",
      "LP001864\n",
      "LP001865\n",
      "LP001868\n",
      "LP001870\n",
      "LP001871\n",
      "LP001872\n",
      "LP001875\n",
      "LP001877\n",
      "LP001882\n",
      "LP001883\n",
      "LP001884\n",
      "LP001888\n",
      "LP001891\n",
      "LP001892\n",
      "LP001894\n",
      "LP001896\n",
      "LP001900\n",
      "LP001903\n",
      "LP001904\n",
      "LP001907\n",
      "LP001908\n",
      "LP001910\n",
      "LP001914\n",
      "LP001915\n",
      "LP001917\n",
      "LP001922\n",
      "LP001924\n",
      "LP001925\n",
      "LP001926\n",
      "LP001931\n",
      "LP001935\n",
      "LP001936\n",
      "LP001938\n",
      "LP001940\n",
      "LP001945\n",
      "LP001947\n",
      "LP001949\n",
      "LP001953\n",
      "LP001954\n",
      "LP001955\n",
      "LP001963\n",
      "LP001964\n",
      "LP001972\n",
      "LP001974\n",
      "LP001977\n",
      "LP001978\n",
      "LP001990\n",
      "LP001993\n",
      "LP001994\n",
      "LP001996\n",
      "LP001998\n",
      "LP002002\n",
      "LP002004\n",
      "LP002006\n",
      "LP002008\n",
      "LP002024\n",
      "LP002031\n",
      "LP002035\n",
      "LP002036\n",
      "LP002043\n",
      "LP002050\n",
      "LP002051\n",
      "LP002053\n",
      "LP002054\n",
      "LP002055\n",
      "LP002065\n",
      "LP002067\n",
      "LP002068\n",
      "LP002082\n",
      "LP002086\n",
      "LP002087\n",
      "LP002097\n",
      "LP002098\n",
      "LP002100\n",
      "LP002101\n",
      "LP002103\n",
      "LP002106\n",
      "LP002110\n",
      "LP002112\n",
      "LP002113\n",
      "LP002114\n",
      "LP002115\n",
      "LP002116\n",
      "LP002119\n",
      "LP002126\n",
      "LP002128\n",
      "LP002129\n",
      "LP002130\n",
      "LP002131\n",
      "LP002137\n",
      "LP002138\n",
      "LP002139\n",
      "LP002140\n",
      "LP002141\n",
      "LP002142\n",
      "LP002143\n",
      "LP002144\n",
      "LP002149\n",
      "LP002151\n",
      "LP002158\n",
      "LP002160\n",
      "LP002161\n",
      "LP002170\n",
      "LP002175\n",
      "LP002178\n",
      "LP002180\n",
      "LP002181\n",
      "LP002187\n",
      "LP002188\n",
      "LP002190\n",
      "LP002191\n",
      "LP002194\n",
      "LP002197\n",
      "LP002201\n",
      "LP002205\n",
      "LP002209\n",
      "LP002211\n",
      "LP002219\n",
      "LP002223\n",
      "LP002224\n",
      "LP002225\n",
      "LP002226\n",
      "LP002229\n",
      "LP002231\n",
      "LP002234\n",
      "LP002236\n",
      "LP002237\n",
      "LP002239\n",
      "LP002243\n",
      "LP002244\n",
      "LP002250\n",
      "LP002255\n",
      "LP002262\n",
      "LP002263\n",
      "LP002265\n",
      "LP002266\n",
      "LP002272\n",
      "LP002277\n",
      "LP002281\n",
      "LP002284\n",
      "LP002287\n",
      "LP002288\n",
      "LP002296\n",
      "LP002297\n",
      "LP002300\n",
      "LP002301\n",
      "LP002305\n",
      "LP002308\n",
      "LP002314\n",
      "LP002315\n",
      "LP002317\n",
      "LP002318\n",
      "LP002319\n",
      "LP002328\n",
      "LP002332\n",
      "LP002335\n",
      "LP002337\n",
      "LP002341\n",
      "LP002342\n",
      "LP002345\n",
      "LP002347\n",
      "LP002348\n",
      "LP002357\n",
      "LP002361\n",
      "LP002362\n",
      "LP002364\n",
      "LP002366\n",
      "LP002367\n",
      "LP002368\n",
      "LP002369\n",
      "LP002370\n",
      "LP002377\n",
      "LP002379\n",
      "LP002386\n",
      "LP002387\n",
      "LP002390\n",
      "LP002393\n",
      "LP002398\n",
      "LP002401\n",
      "LP002403\n",
      "LP002407\n",
      "LP002408\n",
      "LP002409\n",
      "LP002418\n",
      "LP002422\n",
      "LP002424\n",
      "LP002429\n",
      "LP002434\n",
      "LP002435\n",
      "LP002443\n",
      "LP002444\n",
      "LP002446\n",
      "LP002447\n",
      "LP002448\n",
      "LP002449\n",
      "LP002453\n",
      "LP002455\n",
      "LP002459\n",
      "LP002467\n",
      "LP002472\n",
      "LP002473\n",
      "LP002478\n",
      "LP002484\n",
      "LP002487\n",
      "LP002489\n",
      "LP002493\n",
      "LP002494\n",
      "LP002500\n",
      "LP002501\n",
      "LP002502\n",
      "LP002505\n",
      "LP002515\n",
      "LP002517\n",
      "LP002519\n",
      "LP002522\n",
      "LP002524\n",
      "LP002527\n",
      "LP002529\n",
      "LP002530\n",
      "LP002531\n",
      "LP002533\n",
      "LP002534\n",
      "LP002536\n",
      "LP002537\n",
      "LP002541\n",
      "LP002543\n",
      "LP002544\n",
      "LP002545\n",
      "LP002547\n",
      "LP002555\n",
      "LP002556\n",
      "LP002560\n",
      "LP002562\n",
      "LP002571\n",
      "LP002582\n",
      "LP002585\n",
      "LP002586\n",
      "LP002587\n",
      "LP002588\n",
      "LP002600\n",
      "LP002602\n",
      "LP002603\n",
      "LP002606\n",
      "LP002615\n",
      "LP002618\n",
      "LP002619\n",
      "LP002622\n",
      "LP002624\n",
      "LP002625\n",
      "LP002626\n",
      "LP002634\n",
      "LP002637\n",
      "LP002640\n",
      "LP002643\n",
      "LP002648\n",
      "LP002652\n",
      "LP002659\n",
      "LP002670\n",
      "LP002682\n",
      "LP002683\n",
      "LP002684\n",
      "LP002689\n",
      "LP002690\n",
      "LP002692\n",
      "LP002693\n",
      "LP002697\n",
      "LP002699\n",
      "LP002705\n",
      "LP002706\n",
      "LP002714\n",
      "LP002716\n",
      "LP002717\n",
      "LP002720\n",
      "LP002723\n",
      "LP002729\n",
      "LP002731\n",
      "LP002732\n",
      "LP002734\n",
      "LP002738\n",
      "LP002739\n",
      "LP002740\n",
      "LP002741\n",
      "LP002743\n",
      "LP002753\n",
      "LP002755\n",
      "LP002757\n",
      "LP002767\n",
      "LP002768\n",
      "LP002772\n",
      "LP002776\n",
      "LP002777\n",
      "LP002778\n",
      "LP002784\n",
      "LP002785\n",
      "LP002788\n",
      "LP002789\n",
      "LP002792\n",
      "LP002794\n",
      "LP002795\n",
      "LP002798\n",
      "LP002804\n",
      "LP002807\n",
      "LP002813\n",
      "LP002820\n",
      "LP002821\n",
      "LP002832\n",
      "LP002833\n",
      "LP002836\n",
      "LP002837\n",
      "LP002840\n",
      "LP002841\n",
      "LP002842\n",
      "LP002847\n",
      "LP002855\n",
      "LP002862\n",
      "LP002863\n",
      "LP002868\n",
      "LP002872\n",
      "LP002874\n",
      "LP002877\n",
      "LP002888\n",
      "LP002892\n",
      "LP002893\n",
      "LP002894\n",
      "LP002898\n",
      "LP002911\n",
      "LP002912\n",
      "LP002916\n",
      "LP002917\n",
      "LP002925\n",
      "LP002926\n",
      "LP002928\n",
      "LP002931\n",
      "LP002933\n",
      "LP002936\n",
      "LP002938\n",
      "LP002940\n",
      "LP002941\n",
      "LP002943\n",
      "LP002945\n",
      "LP002948\n",
      "LP002949\n",
      "LP002950\n",
      "LP002953\n",
      "LP002958\n",
      "LP002959\n",
      "LP002960\n",
      "LP002961\n",
      "LP002964\n",
      "LP002974\n",
      "LP002978\n",
      "LP002979\n",
      "LP002983\n",
      "LP002984\n",
      "LP002990\n",
      "\n",
      "\n",
      "Unique labels for Gender:\n",
      "Male\n",
      "Female\n",
      "nan\n",
      "\n",
      "\n",
      "Unique labels for Married:\n",
      "No\n",
      "Yes\n",
      "nan\n",
      "\n",
      "\n",
      "Unique labels for Dependents:\n",
      "0\n",
      "1\n",
      "2\n",
      "3+\n",
      "nan\n",
      "\n",
      "\n",
      "Unique labels for Education:\n",
      "Graduate\n",
      "Not Graduate\n",
      "\n",
      "\n",
      "Unique labels for Self_Employed:\n",
      "No\n",
      "Yes\n",
      "nan\n",
      "\n",
      "\n",
      "Unique labels for Property_Area:\n",
      "Urban\n",
      "Rural\n",
      "Semiurban\n",
      "\n",
      "\n",
      "Unique labels for Loan_Status:\n",
      "Y\n",
      "N\n",
      "\n",
      "\n"
     ]
    }
   ],
   "source": [
    "# Identify the unique lables of each columns\n",
    "cat_cols = df.select_dtypes(include='object').columns\n",
    "for col in cat_cols:\n",
    "    unique_labels = df[col].unique()\n",
    "    print(f\"Unique labels for {col}:\")\n",
    "    for label in unique_labels:\n",
    "        print(label)\n",
    "    print('\\n')"
   ]
  },
  {
   "cell_type": "code",
   "execution_count": 9,
   "id": "db1b5e12",
   "metadata": {},
   "outputs": [
    {
     "name": "stdout",
     "output_type": "stream",
     "text": [
      "Range for ApplicantIncome: 150 to 81000\n",
      "Range for CoapplicantIncome: 0.0 to 41667.0\n",
      "Range for LoanAmount: 9.0 to 700.0\n",
      "Range for Loan_Amount_Term: 12.0 to 480.0\n",
      "Range for Credit_History: 0.0 to 1.0\n"
     ]
    }
   ],
   "source": [
    "# Range of each columns\n",
    "num_cols = df.select_dtypes(include='number').columns\n",
    "for col in num_cols:\n",
    "    min_val = df[col].min()\n",
    "    max_val = df[col].max()\n",
    "    print(f\"Range for {col}: {min_val} to {max_val}\")"
   ]
  },
  {
   "cell_type": "code",
   "execution_count": 10,
   "id": "a3d535c6",
   "metadata": {},
   "outputs": [
    {
     "data": {
      "text/html": [
       "<div>\n",
       "<style scoped>\n",
       "    .dataframe tbody tr th:only-of-type {\n",
       "        vertical-align: middle;\n",
       "    }\n",
       "\n",
       "    .dataframe tbody tr th {\n",
       "        vertical-align: top;\n",
       "    }\n",
       "\n",
       "    .dataframe thead th {\n",
       "        text-align: right;\n",
       "    }\n",
       "</style>\n",
       "<table border=\"1\" class=\"dataframe\">\n",
       "  <thead>\n",
       "    <tr style=\"text-align: right;\">\n",
       "      <th></th>\n",
       "      <th>ApplicantIncome</th>\n",
       "      <th>CoapplicantIncome</th>\n",
       "      <th>LoanAmount</th>\n",
       "      <th>Loan_Amount_Term</th>\n",
       "      <th>Credit_History</th>\n",
       "    </tr>\n",
       "  </thead>\n",
       "  <tbody>\n",
       "    <tr>\n",
       "      <th>count</th>\n",
       "      <td>614.000000</td>\n",
       "      <td>614.000000</td>\n",
       "      <td>592.000000</td>\n",
       "      <td>600.00000</td>\n",
       "      <td>564.000000</td>\n",
       "    </tr>\n",
       "    <tr>\n",
       "      <th>mean</th>\n",
       "      <td>5403.459283</td>\n",
       "      <td>1621.245798</td>\n",
       "      <td>146.412162</td>\n",
       "      <td>342.00000</td>\n",
       "      <td>0.842199</td>\n",
       "    </tr>\n",
       "    <tr>\n",
       "      <th>std</th>\n",
       "      <td>6109.041673</td>\n",
       "      <td>2926.248369</td>\n",
       "      <td>85.587325</td>\n",
       "      <td>65.12041</td>\n",
       "      <td>0.364878</td>\n",
       "    </tr>\n",
       "    <tr>\n",
       "      <th>min</th>\n",
       "      <td>150.000000</td>\n",
       "      <td>0.000000</td>\n",
       "      <td>9.000000</td>\n",
       "      <td>12.00000</td>\n",
       "      <td>0.000000</td>\n",
       "    </tr>\n",
       "    <tr>\n",
       "      <th>25%</th>\n",
       "      <td>2877.500000</td>\n",
       "      <td>0.000000</td>\n",
       "      <td>100.000000</td>\n",
       "      <td>360.00000</td>\n",
       "      <td>1.000000</td>\n",
       "    </tr>\n",
       "    <tr>\n",
       "      <th>50%</th>\n",
       "      <td>3812.500000</td>\n",
       "      <td>1188.500000</td>\n",
       "      <td>128.000000</td>\n",
       "      <td>360.00000</td>\n",
       "      <td>1.000000</td>\n",
       "    </tr>\n",
       "    <tr>\n",
       "      <th>75%</th>\n",
       "      <td>5795.000000</td>\n",
       "      <td>2297.250000</td>\n",
       "      <td>168.000000</td>\n",
       "      <td>360.00000</td>\n",
       "      <td>1.000000</td>\n",
       "    </tr>\n",
       "    <tr>\n",
       "      <th>max</th>\n",
       "      <td>81000.000000</td>\n",
       "      <td>41667.000000</td>\n",
       "      <td>700.000000</td>\n",
       "      <td>480.00000</td>\n",
       "      <td>1.000000</td>\n",
       "    </tr>\n",
       "  </tbody>\n",
       "</table>\n",
       "</div>"
      ],
      "text/plain": [
       "       ApplicantIncome  CoapplicantIncome  LoanAmount  Loan_Amount_Term  \\\n",
       "count       614.000000         614.000000  592.000000         600.00000   \n",
       "mean       5403.459283        1621.245798  146.412162         342.00000   \n",
       "std        6109.041673        2926.248369   85.587325          65.12041   \n",
       "min         150.000000           0.000000    9.000000          12.00000   \n",
       "25%        2877.500000           0.000000  100.000000         360.00000   \n",
       "50%        3812.500000        1188.500000  128.000000         360.00000   \n",
       "75%        5795.000000        2297.250000  168.000000         360.00000   \n",
       "max       81000.000000       41667.000000  700.000000         480.00000   \n",
       "\n",
       "       Credit_History  \n",
       "count      564.000000  \n",
       "mean         0.842199  \n",
       "std          0.364878  \n",
       "min          0.000000  \n",
       "25%          1.000000  \n",
       "50%          1.000000  \n",
       "75%          1.000000  \n",
       "max          1.000000  "
      ]
     },
     "execution_count": 10,
     "metadata": {},
     "output_type": "execute_result"
    }
   ],
   "source": [
    "#Statistical measures\n",
    "df.describe()"
   ]
  },
  {
   "cell_type": "code",
   "execution_count": 11,
   "id": "bb02bf8b",
   "metadata": {},
   "outputs": [
    {
     "data": {
      "text/plain": [
       "Loan_ID               0\n",
       "Gender               13\n",
       "Married               3\n",
       "Dependents           15\n",
       "Education             0\n",
       "Self_Employed        32\n",
       "ApplicantIncome       0\n",
       "CoapplicantIncome     0\n",
       "LoanAmount           22\n",
       "Loan_Amount_Term     14\n",
       "Credit_History       50\n",
       "Property_Area         0\n",
       "Loan_Status           0\n",
       "dtype: int64"
      ]
     },
     "execution_count": 11,
     "metadata": {},
     "output_type": "execute_result"
    }
   ],
   "source": [
    "#Checking the missing values\n",
    "df.isna().sum()"
   ]
  },
  {
   "cell_type": "code",
   "execution_count": 12,
   "id": "9d59ea55",
   "metadata": {},
   "outputs": [],
   "source": [
    "#Find the percentage of null values\n",
    "percent=df.isnull().sum()*100/len(df)"
   ]
  },
  {
   "cell_type": "code",
   "execution_count": 13,
   "id": "34468efb",
   "metadata": {},
   "outputs": [
    {
     "data": {
      "text/plain": [
       "Loan_ID              0.000000\n",
       "Gender               2.117264\n",
       "Married              0.488599\n",
       "Dependents           2.442997\n",
       "Education            0.000000\n",
       "Self_Employed        5.211726\n",
       "ApplicantIncome      0.000000\n",
       "CoapplicantIncome    0.000000\n",
       "LoanAmount           3.583062\n",
       "Loan_Amount_Term     2.280130\n",
       "Credit_History       8.143322\n",
       "Property_Area        0.000000\n",
       "Loan_Status          0.000000\n",
       "dtype: float64"
      ]
     },
     "execution_count": 13,
     "metadata": {},
     "output_type": "execute_result"
    }
   ],
   "source": [
    "percent"
   ]
  },
  {
   "cell_type": "code",
   "execution_count": 14,
   "id": "5bca9afa",
   "metadata": {},
   "outputs": [
    {
     "data": {
      "text/html": [
       "<div>\n",
       "<style scoped>\n",
       "    .dataframe tbody tr th:only-of-type {\n",
       "        vertical-align: middle;\n",
       "    }\n",
       "\n",
       "    .dataframe tbody tr th {\n",
       "        vertical-align: top;\n",
       "    }\n",
       "\n",
       "    .dataframe thead th {\n",
       "        text-align: right;\n",
       "    }\n",
       "</style>\n",
       "<table border=\"1\" class=\"dataframe\">\n",
       "  <thead>\n",
       "    <tr style=\"text-align: right;\">\n",
       "      <th></th>\n",
       "      <th>Loan_ID</th>\n",
       "      <th>Gender</th>\n",
       "      <th>Married</th>\n",
       "      <th>Dependents</th>\n",
       "      <th>Education</th>\n",
       "      <th>Self_Employed</th>\n",
       "      <th>ApplicantIncome</th>\n",
       "      <th>CoapplicantIncome</th>\n",
       "      <th>LoanAmount</th>\n",
       "      <th>Loan_Amount_Term</th>\n",
       "      <th>Credit_History</th>\n",
       "      <th>Property_Area</th>\n",
       "      <th>Loan_Status</th>\n",
       "    </tr>\n",
       "  </thead>\n",
       "  <tbody>\n",
       "    <tr>\n",
       "      <th>1</th>\n",
       "      <td>LP001003</td>\n",
       "      <td>Male</td>\n",
       "      <td>Yes</td>\n",
       "      <td>1</td>\n",
       "      <td>Graduate</td>\n",
       "      <td>No</td>\n",
       "      <td>4583</td>\n",
       "      <td>1508.0</td>\n",
       "      <td>128.0</td>\n",
       "      <td>360.0</td>\n",
       "      <td>1.0</td>\n",
       "      <td>Rural</td>\n",
       "      <td>N</td>\n",
       "    </tr>\n",
       "    <tr>\n",
       "      <th>2</th>\n",
       "      <td>LP001005</td>\n",
       "      <td>Male</td>\n",
       "      <td>Yes</td>\n",
       "      <td>0</td>\n",
       "      <td>Graduate</td>\n",
       "      <td>Yes</td>\n",
       "      <td>3000</td>\n",
       "      <td>0.0</td>\n",
       "      <td>66.0</td>\n",
       "      <td>360.0</td>\n",
       "      <td>1.0</td>\n",
       "      <td>Urban</td>\n",
       "      <td>Y</td>\n",
       "    </tr>\n",
       "    <tr>\n",
       "      <th>3</th>\n",
       "      <td>LP001006</td>\n",
       "      <td>Male</td>\n",
       "      <td>Yes</td>\n",
       "      <td>0</td>\n",
       "      <td>Not Graduate</td>\n",
       "      <td>No</td>\n",
       "      <td>2583</td>\n",
       "      <td>2358.0</td>\n",
       "      <td>120.0</td>\n",
       "      <td>360.0</td>\n",
       "      <td>1.0</td>\n",
       "      <td>Urban</td>\n",
       "      <td>Y</td>\n",
       "    </tr>\n",
       "    <tr>\n",
       "      <th>4</th>\n",
       "      <td>LP001008</td>\n",
       "      <td>Male</td>\n",
       "      <td>No</td>\n",
       "      <td>0</td>\n",
       "      <td>Graduate</td>\n",
       "      <td>No</td>\n",
       "      <td>6000</td>\n",
       "      <td>0.0</td>\n",
       "      <td>141.0</td>\n",
       "      <td>360.0</td>\n",
       "      <td>1.0</td>\n",
       "      <td>Urban</td>\n",
       "      <td>Y</td>\n",
       "    </tr>\n",
       "    <tr>\n",
       "      <th>5</th>\n",
       "      <td>LP001011</td>\n",
       "      <td>Male</td>\n",
       "      <td>Yes</td>\n",
       "      <td>2</td>\n",
       "      <td>Graduate</td>\n",
       "      <td>Yes</td>\n",
       "      <td>5417</td>\n",
       "      <td>4196.0</td>\n",
       "      <td>267.0</td>\n",
       "      <td>360.0</td>\n",
       "      <td>1.0</td>\n",
       "      <td>Urban</td>\n",
       "      <td>Y</td>\n",
       "    </tr>\n",
       "  </tbody>\n",
       "</table>\n",
       "</div>"
      ],
      "text/plain": [
       "    Loan_ID Gender Married Dependents     Education Self_Employed  \\\n",
       "1  LP001003   Male     Yes          1      Graduate            No   \n",
       "2  LP001005   Male     Yes          0      Graduate           Yes   \n",
       "3  LP001006   Male     Yes          0  Not Graduate            No   \n",
       "4  LP001008   Male      No          0      Graduate            No   \n",
       "5  LP001011   Male     Yes          2      Graduate           Yes   \n",
       "\n",
       "   ApplicantIncome  CoapplicantIncome  LoanAmount  Loan_Amount_Term  \\\n",
       "1             4583             1508.0       128.0             360.0   \n",
       "2             3000                0.0        66.0             360.0   \n",
       "3             2583             2358.0       120.0             360.0   \n",
       "4             6000                0.0       141.0             360.0   \n",
       "5             5417             4196.0       267.0             360.0   \n",
       "\n",
       "   Credit_History Property_Area Loan_Status  \n",
       "1             1.0         Rural           N  \n",
       "2             1.0         Urban           Y  \n",
       "3             1.0         Urban           Y  \n",
       "4             1.0         Urban           Y  \n",
       "5             1.0         Urban           Y  "
      ]
     },
     "execution_count": 14,
     "metadata": {},
     "output_type": "execute_result"
    }
   ],
   "source": [
    "#Drop the missing values\n",
    "df=df.dropna()\n",
    "df[:5]"
   ]
  },
  {
   "cell_type": "code",
   "execution_count": 15,
   "id": "e907d73d",
   "metadata": {},
   "outputs": [
    {
     "data": {
      "text/plain": [
       "(480, 13)"
      ]
     },
     "execution_count": 15,
     "metadata": {},
     "output_type": "execute_result"
    }
   ],
   "source": [
    "#Show the number of row & column\n",
    "df.shape"
   ]
  },
  {
   "cell_type": "code",
   "execution_count": 16,
   "id": "ce0c4e2f",
   "metadata": {},
   "outputs": [
    {
     "data": {
      "text/plain": [
       "Loan_ID              0\n",
       "Gender               0\n",
       "Married              0\n",
       "Dependents           0\n",
       "Education            0\n",
       "Self_Employed        0\n",
       "ApplicantIncome      0\n",
       "CoapplicantIncome    0\n",
       "LoanAmount           0\n",
       "Loan_Amount_Term     0\n",
       "Credit_History       0\n",
       "Property_Area        0\n",
       "Loan_Status          0\n",
       "dtype: int64"
      ]
     },
     "execution_count": 16,
     "metadata": {},
     "output_type": "execute_result"
    }
   ],
   "source": [
    "#Number of missing values in each columns\n",
    "df.isnull().sum()"
   ]
  },
  {
   "cell_type": "code",
   "execution_count": 17,
   "id": "c72f5e68",
   "metadata": {
    "scrolled": true
   },
   "outputs": [
    {
     "name": "stderr",
     "output_type": "stream",
     "text": [
      "C:\\Users\\manami sarkar\\AppData\\Local\\Temp\\ipykernel_25444\\2105179451.py:2: SettingWithCopyWarning: \n",
      "A value is trying to be set on a copy of a slice from a DataFrame.\n",
      "Try using .loc[row_indexer,col_indexer] = value instead\n",
      "\n",
      "See the caveats in the documentation: https://pandas.pydata.org/pandas-docs/stable/user_guide/indexing.html#returning-a-view-versus-a-copy\n",
      "  df.replace({'Loan_Status':{'N':0,'Y':1},'Married':{'No':0,'Yes':1},'Gender':{'Male':1,'Female':0},'Self_Employed':{'No':0,'Yes':1},'Property_Area':{'Rural':0,'Semiurban':1,'Urban':2},'Education':{'Graduate':1,'Not Graduate':0}},inplace=True)\n"
     ]
    }
   ],
   "source": [
    "#Convert Categorical values to numerical values\n",
    "df.replace({'Loan_Status':{'N':0,'Y':1},'Married':{'No':0,'Yes':1},'Gender':{'Male':1,'Female':0},'Self_Employed':{'No':0,'Yes':1},'Property_Area':{'Rural':0,'Semiurban':1,'Urban':2},'Education':{'Graduate':1,'Not Graduate':0}},inplace=True)"
   ]
  },
  {
   "cell_type": "code",
   "execution_count": 18,
   "id": "733495ee",
   "metadata": {},
   "outputs": [
    {
     "data": {
      "text/html": [
       "<div>\n",
       "<style scoped>\n",
       "    .dataframe tbody tr th:only-of-type {\n",
       "        vertical-align: middle;\n",
       "    }\n",
       "\n",
       "    .dataframe tbody tr th {\n",
       "        vertical-align: top;\n",
       "    }\n",
       "\n",
       "    .dataframe thead th {\n",
       "        text-align: right;\n",
       "    }\n",
       "</style>\n",
       "<table border=\"1\" class=\"dataframe\">\n",
       "  <thead>\n",
       "    <tr style=\"text-align: right;\">\n",
       "      <th></th>\n",
       "      <th>Loan_ID</th>\n",
       "      <th>Gender</th>\n",
       "      <th>Married</th>\n",
       "      <th>Dependents</th>\n",
       "      <th>Education</th>\n",
       "      <th>Self_Employed</th>\n",
       "      <th>ApplicantIncome</th>\n",
       "      <th>CoapplicantIncome</th>\n",
       "      <th>LoanAmount</th>\n",
       "      <th>Loan_Amount_Term</th>\n",
       "      <th>Credit_History</th>\n",
       "      <th>Property_Area</th>\n",
       "      <th>Loan_Status</th>\n",
       "    </tr>\n",
       "  </thead>\n",
       "  <tbody>\n",
       "    <tr>\n",
       "      <th>1</th>\n",
       "      <td>LP001003</td>\n",
       "      <td>1</td>\n",
       "      <td>1</td>\n",
       "      <td>1</td>\n",
       "      <td>1</td>\n",
       "      <td>0</td>\n",
       "      <td>4583</td>\n",
       "      <td>1508.0</td>\n",
       "      <td>128.0</td>\n",
       "      <td>360.0</td>\n",
       "      <td>1.0</td>\n",
       "      <td>0</td>\n",
       "      <td>0</td>\n",
       "    </tr>\n",
       "    <tr>\n",
       "      <th>2</th>\n",
       "      <td>LP001005</td>\n",
       "      <td>1</td>\n",
       "      <td>1</td>\n",
       "      <td>0</td>\n",
       "      <td>1</td>\n",
       "      <td>1</td>\n",
       "      <td>3000</td>\n",
       "      <td>0.0</td>\n",
       "      <td>66.0</td>\n",
       "      <td>360.0</td>\n",
       "      <td>1.0</td>\n",
       "      <td>2</td>\n",
       "      <td>1</td>\n",
       "    </tr>\n",
       "    <tr>\n",
       "      <th>3</th>\n",
       "      <td>LP001006</td>\n",
       "      <td>1</td>\n",
       "      <td>1</td>\n",
       "      <td>0</td>\n",
       "      <td>0</td>\n",
       "      <td>0</td>\n",
       "      <td>2583</td>\n",
       "      <td>2358.0</td>\n",
       "      <td>120.0</td>\n",
       "      <td>360.0</td>\n",
       "      <td>1.0</td>\n",
       "      <td>2</td>\n",
       "      <td>1</td>\n",
       "    </tr>\n",
       "  </tbody>\n",
       "</table>\n",
       "</div>"
      ],
      "text/plain": [
       "    Loan_ID  Gender  Married Dependents  Education  Self_Employed  \\\n",
       "1  LP001003       1        1          1          1              0   \n",
       "2  LP001005       1        1          0          1              1   \n",
       "3  LP001006       1        1          0          0              0   \n",
       "\n",
       "   ApplicantIncome  CoapplicantIncome  LoanAmount  Loan_Amount_Term  \\\n",
       "1             4583             1508.0       128.0             360.0   \n",
       "2             3000                0.0        66.0             360.0   \n",
       "3             2583             2358.0       120.0             360.0   \n",
       "\n",
       "   Credit_History  Property_Area  Loan_Status  \n",
       "1             1.0              0            0  \n",
       "2             1.0              2            1  \n",
       "3             1.0              2            1  "
      ]
     },
     "execution_count": 18,
     "metadata": {},
     "output_type": "execute_result"
    }
   ],
   "source": [
    "df[:3]"
   ]
  },
  {
   "cell_type": "code",
   "execution_count": 19,
   "id": "d9eb3e92",
   "metadata": {},
   "outputs": [
    {
     "data": {
      "text/plain": [
       "(480, 13)"
      ]
     },
     "execution_count": 19,
     "metadata": {},
     "output_type": "execute_result"
    }
   ],
   "source": [
    "#Show the number of rows & columns\n",
    "df.shape"
   ]
  },
  {
   "cell_type": "code",
   "execution_count": 20,
   "id": "7017060c",
   "metadata": {},
   "outputs": [
    {
     "data": {
      "text/html": [
       "<div>\n",
       "<style scoped>\n",
       "    .dataframe tbody tr th:only-of-type {\n",
       "        vertical-align: middle;\n",
       "    }\n",
       "\n",
       "    .dataframe tbody tr th {\n",
       "        vertical-align: top;\n",
       "    }\n",
       "\n",
       "    .dataframe thead th {\n",
       "        text-align: right;\n",
       "    }\n",
       "</style>\n",
       "<table border=\"1\" class=\"dataframe\">\n",
       "  <thead>\n",
       "    <tr style=\"text-align: right;\">\n",
       "      <th></th>\n",
       "      <th>L_id</th>\n",
       "      <th>Sex</th>\n",
       "      <th>Marr</th>\n",
       "      <th>Depen</th>\n",
       "      <th>Edu</th>\n",
       "      <th>self_emp</th>\n",
       "      <th>App_inc</th>\n",
       "      <th>Coapp_inc</th>\n",
       "      <th>L_amt</th>\n",
       "      <th>amtterm</th>\n",
       "      <th>cdt_hist</th>\n",
       "      <th>Prob_area</th>\n",
       "      <th>L_status</th>\n",
       "    </tr>\n",
       "  </thead>\n",
       "  <tbody>\n",
       "    <tr>\n",
       "      <th>1</th>\n",
       "      <td>LP001003</td>\n",
       "      <td>1</td>\n",
       "      <td>1</td>\n",
       "      <td>1</td>\n",
       "      <td>1</td>\n",
       "      <td>0</td>\n",
       "      <td>4583</td>\n",
       "      <td>1508.0</td>\n",
       "      <td>128.0</td>\n",
       "      <td>360.0</td>\n",
       "      <td>1.0</td>\n",
       "      <td>0</td>\n",
       "      <td>0</td>\n",
       "    </tr>\n",
       "    <tr>\n",
       "      <th>2</th>\n",
       "      <td>LP001005</td>\n",
       "      <td>1</td>\n",
       "      <td>1</td>\n",
       "      <td>0</td>\n",
       "      <td>1</td>\n",
       "      <td>1</td>\n",
       "      <td>3000</td>\n",
       "      <td>0.0</td>\n",
       "      <td>66.0</td>\n",
       "      <td>360.0</td>\n",
       "      <td>1.0</td>\n",
       "      <td>2</td>\n",
       "      <td>1</td>\n",
       "    </tr>\n",
       "    <tr>\n",
       "      <th>3</th>\n",
       "      <td>LP001006</td>\n",
       "      <td>1</td>\n",
       "      <td>1</td>\n",
       "      <td>0</td>\n",
       "      <td>0</td>\n",
       "      <td>0</td>\n",
       "      <td>2583</td>\n",
       "      <td>2358.0</td>\n",
       "      <td>120.0</td>\n",
       "      <td>360.0</td>\n",
       "      <td>1.0</td>\n",
       "      <td>2</td>\n",
       "      <td>1</td>\n",
       "    </tr>\n",
       "    <tr>\n",
       "      <th>4</th>\n",
       "      <td>LP001008</td>\n",
       "      <td>1</td>\n",
       "      <td>0</td>\n",
       "      <td>0</td>\n",
       "      <td>1</td>\n",
       "      <td>0</td>\n",
       "      <td>6000</td>\n",
       "      <td>0.0</td>\n",
       "      <td>141.0</td>\n",
       "      <td>360.0</td>\n",
       "      <td>1.0</td>\n",
       "      <td>2</td>\n",
       "      <td>1</td>\n",
       "    </tr>\n",
       "    <tr>\n",
       "      <th>5</th>\n",
       "      <td>LP001011</td>\n",
       "      <td>1</td>\n",
       "      <td>1</td>\n",
       "      <td>2</td>\n",
       "      <td>1</td>\n",
       "      <td>1</td>\n",
       "      <td>5417</td>\n",
       "      <td>4196.0</td>\n",
       "      <td>267.0</td>\n",
       "      <td>360.0</td>\n",
       "      <td>1.0</td>\n",
       "      <td>2</td>\n",
       "      <td>1</td>\n",
       "    </tr>\n",
       "  </tbody>\n",
       "</table>\n",
       "</div>"
      ],
      "text/plain": [
       "       L_id  Sex  Marr Depen  Edu  self_emp  App_inc  Coapp_inc  L_amt  \\\n",
       "1  LP001003    1     1     1    1         0     4583     1508.0  128.0   \n",
       "2  LP001005    1     1     0    1         1     3000        0.0   66.0   \n",
       "3  LP001006    1     1     0    0         0     2583     2358.0  120.0   \n",
       "4  LP001008    1     0     0    1         0     6000        0.0  141.0   \n",
       "5  LP001011    1     1     2    1         1     5417     4196.0  267.0   \n",
       "\n",
       "   amtterm  cdt_hist  Prob_area  L_status  \n",
       "1    360.0       1.0          0         0  \n",
       "2    360.0       1.0          2         1  \n",
       "3    360.0       1.0          2         1  \n",
       "4    360.0       1.0          2         1  \n",
       "5    360.0       1.0          2         1  "
      ]
     },
     "execution_count": 20,
     "metadata": {},
     "output_type": "execute_result"
    }
   ],
   "source": [
    "#Changing the values\n",
    "df.columns=['L_id','Sex','Marr','Depen','Edu','self_emp','App_inc','Coapp_inc','L_amt','amtterm','cdt_hist','Prob_area','L_status']\n",
    "df.head()"
   ]
  },
  {
   "cell_type": "code",
   "execution_count": 21,
   "id": "8b8f88b0",
   "metadata": {
    "scrolled": true
   },
   "outputs": [
    {
     "data": {
      "text/html": [
       "<div>\n",
       "<style scoped>\n",
       "    .dataframe tbody tr th:only-of-type {\n",
       "        vertical-align: middle;\n",
       "    }\n",
       "\n",
       "    .dataframe tbody tr th {\n",
       "        vertical-align: top;\n",
       "    }\n",
       "\n",
       "    .dataframe thead th {\n",
       "        text-align: right;\n",
       "    }\n",
       "</style>\n",
       "<table border=\"1\" class=\"dataframe\">\n",
       "  <thead>\n",
       "    <tr style=\"text-align: right;\">\n",
       "      <th></th>\n",
       "      <th>L_id</th>\n",
       "      <th>Sex</th>\n",
       "      <th>Marr</th>\n",
       "      <th>Edu</th>\n",
       "      <th>self_emp</th>\n",
       "      <th>App_inc</th>\n",
       "      <th>Coapp_inc</th>\n",
       "      <th>L_amt</th>\n",
       "      <th>amtterm</th>\n",
       "      <th>cdt_hist</th>\n",
       "      <th>Prob_area</th>\n",
       "      <th>L_status</th>\n",
       "      <th>Depen_1</th>\n",
       "      <th>Depen_2</th>\n",
       "      <th>Depen_3+</th>\n",
       "    </tr>\n",
       "  </thead>\n",
       "  <tbody>\n",
       "    <tr>\n",
       "      <th>1</th>\n",
       "      <td>LP001003</td>\n",
       "      <td>1</td>\n",
       "      <td>1</td>\n",
       "      <td>1</td>\n",
       "      <td>0</td>\n",
       "      <td>4583</td>\n",
       "      <td>1508.0</td>\n",
       "      <td>128.0</td>\n",
       "      <td>360.0</td>\n",
       "      <td>1.0</td>\n",
       "      <td>0</td>\n",
       "      <td>0</td>\n",
       "      <td>1</td>\n",
       "      <td>0</td>\n",
       "      <td>0</td>\n",
       "    </tr>\n",
       "    <tr>\n",
       "      <th>2</th>\n",
       "      <td>LP001005</td>\n",
       "      <td>1</td>\n",
       "      <td>1</td>\n",
       "      <td>1</td>\n",
       "      <td>1</td>\n",
       "      <td>3000</td>\n",
       "      <td>0.0</td>\n",
       "      <td>66.0</td>\n",
       "      <td>360.0</td>\n",
       "      <td>1.0</td>\n",
       "      <td>2</td>\n",
       "      <td>1</td>\n",
       "      <td>0</td>\n",
       "      <td>0</td>\n",
       "      <td>0</td>\n",
       "    </tr>\n",
       "    <tr>\n",
       "      <th>3</th>\n",
       "      <td>LP001006</td>\n",
       "      <td>1</td>\n",
       "      <td>1</td>\n",
       "      <td>0</td>\n",
       "      <td>0</td>\n",
       "      <td>2583</td>\n",
       "      <td>2358.0</td>\n",
       "      <td>120.0</td>\n",
       "      <td>360.0</td>\n",
       "      <td>1.0</td>\n",
       "      <td>2</td>\n",
       "      <td>1</td>\n",
       "      <td>0</td>\n",
       "      <td>0</td>\n",
       "      <td>0</td>\n",
       "    </tr>\n",
       "    <tr>\n",
       "      <th>4</th>\n",
       "      <td>LP001008</td>\n",
       "      <td>1</td>\n",
       "      <td>0</td>\n",
       "      <td>1</td>\n",
       "      <td>0</td>\n",
       "      <td>6000</td>\n",
       "      <td>0.0</td>\n",
       "      <td>141.0</td>\n",
       "      <td>360.0</td>\n",
       "      <td>1.0</td>\n",
       "      <td>2</td>\n",
       "      <td>1</td>\n",
       "      <td>0</td>\n",
       "      <td>0</td>\n",
       "      <td>0</td>\n",
       "    </tr>\n",
       "    <tr>\n",
       "      <th>5</th>\n",
       "      <td>LP001011</td>\n",
       "      <td>1</td>\n",
       "      <td>1</td>\n",
       "      <td>1</td>\n",
       "      <td>1</td>\n",
       "      <td>5417</td>\n",
       "      <td>4196.0</td>\n",
       "      <td>267.0</td>\n",
       "      <td>360.0</td>\n",
       "      <td>1.0</td>\n",
       "      <td>2</td>\n",
       "      <td>1</td>\n",
       "      <td>0</td>\n",
       "      <td>1</td>\n",
       "      <td>0</td>\n",
       "    </tr>\n",
       "  </tbody>\n",
       "</table>\n",
       "</div>"
      ],
      "text/plain": [
       "       L_id  Sex  Marr  Edu  self_emp  App_inc  Coapp_inc  L_amt  amtterm  \\\n",
       "1  LP001003    1     1    1         0     4583     1508.0  128.0    360.0   \n",
       "2  LP001005    1     1    1         1     3000        0.0   66.0    360.0   \n",
       "3  LP001006    1     1    0         0     2583     2358.0  120.0    360.0   \n",
       "4  LP001008    1     0    1         0     6000        0.0  141.0    360.0   \n",
       "5  LP001011    1     1    1         1     5417     4196.0  267.0    360.0   \n",
       "\n",
       "   cdt_hist  Prob_area  L_status  Depen_1  Depen_2  Depen_3+  \n",
       "1       1.0          0         0        1        0         0  \n",
       "2       1.0          2         1        0        0         0  \n",
       "3       1.0          2         1        0        0         0  \n",
       "4       1.0          2         1        0        0         0  \n",
       "5       1.0          2         1        0        1         0  "
      ]
     },
     "execution_count": 21,
     "metadata": {},
     "output_type": "execute_result"
    }
   ],
   "source": [
    "df=pd.get_dummies(df,drop_first=True,columns=['Depen'],dtype=np.int64)\n",
    "df[:5]"
   ]
  },
  {
   "cell_type": "code",
   "execution_count": 22,
   "id": "ce950373",
   "metadata": {},
   "outputs": [
    {
     "data": {
      "text/plain": [
       "(480, 15)"
      ]
     },
     "execution_count": 22,
     "metadata": {},
     "output_type": "execute_result"
    }
   ],
   "source": [
    "df.shape"
   ]
  },
  {
   "cell_type": "markdown",
   "id": "9ca7a45b",
   "metadata": {},
   "source": [
    "<h2><font color=red>PLOTING"
   ]
  },
  {
   "cell_type": "code",
   "execution_count": 23,
   "id": "7c4304a2",
   "metadata": {},
   "outputs": [
    {
     "data": {
      "text/plain": [
       "<AxesSubplot:xlabel='Edu', ylabel='count'>"
      ]
     },
     "execution_count": 23,
     "metadata": {},
     "output_type": "execute_result"
    },
    {
     "data": {
      "image/png": "[encoded data removed]",
      "text/plain": [
       "<Figure size 640x480 with 1 Axes>"
      ]
     },
     "metadata": {},
     "output_type": "display_data"
    }
   ],
   "source": [
    "# Education and Loan status\n",
    "sns.countplot(x='Edu',hue='L_status',data=df)"
   ]
  },
  {
   "cell_type": "code",
   "execution_count": 24,
   "id": "d687ba5b",
   "metadata": {},
   "outputs": [
    {
     "data": {
      "text/plain": [
       "<AxesSubplot:xlabel='count', ylabel='Depen_1'>"
      ]
     },
     "execution_count": 24,
     "metadata": {},
     "output_type": "execute_result"
    },
    {
     "data": {
      "image/png": "[encoded data removed]",
      "text/plain": [
       "<Figure size 640x480 with 1 Axes>"
      ]
     },
     "metadata": {},
     "output_type": "display_data"
    }
   ],
   "source": [
    "#Dependent & Loan status\n",
    "sns.countplot(y='Depen_1',hue='L_status',data=df)"
   ]
  },
  {
   "cell_type": "code",
   "execution_count": 25,
   "id": "7f7d4879",
   "metadata": {},
   "outputs": [
    {
     "data": {
      "text/plain": [
       "<AxesSubplot:xlabel='count', ylabel='Depen_2'>"
      ]
     },
     "execution_count": 25,
     "metadata": {},
     "output_type": "execute_result"
    },
    {
     "data": {
      "image/png": "[encoded data removed]",
      "text/plain": [
       "<Figure size 640x480 with 1 Axes>"
      ]
     },
     "metadata": {},
     "output_type": "display_data"
    }
   ],
   "source": [
    "sns.countplot(y='Depen_2',hue='L_status',data=df)"
   ]
  },
  {
   "cell_type": "code",
   "execution_count": 26,
   "id": "e2dbcd01",
   "metadata": {},
   "outputs": [
    {
     "data": {
      "text/plain": [
       "<AxesSubplot:xlabel='count', ylabel='Depen_3+'>"
      ]
     },
     "execution_count": 26,
     "metadata": {},
     "output_type": "execute_result"
    },
    {
     "data": {
      "image/png": "[encoded data removed]",
      "text/plain": [
       "<Figure size 640x480 with 1 Axes>"
      ]
     },
     "metadata": {},
     "output_type": "display_data"
    }
   ],
   "source": [
    "sns.countplot(y='Depen_3+',hue='L_status',data=df)"
   ]
  },
  {
   "cell_type": "code",
   "execution_count": 27,
   "id": "4758f97b",
   "metadata": {},
   "outputs": [
    {
     "data": {
      "text/plain": [
       "<AxesSubplot:xlabel='self_emp', ylabel='count'>"
      ]
     },
     "execution_count": 27,
     "metadata": {},
     "output_type": "execute_result"
    },
    {
     "data": {
      "image/png": "[encoded data removed]",
      "text/plain": [
       "<Figure size 640x480 with 1 Axes>"
      ]
     },
     "metadata": {},
     "output_type": "display_data"
    }
   ],
   "source": [
    "#Self_Employee & Loan Status\n",
    "sns.countplot(x='self_emp',hue='L_status',data=df)"
   ]
  },
  {
   "cell_type": "code",
   "execution_count": 28,
   "id": "11fb602a",
   "metadata": {},
   "outputs": [
    {
     "data": {
      "text/plain": [
       "<AxesSubplot:xlabel='cdt_hist', ylabel='count'>"
      ]
     },
     "execution_count": 28,
     "metadata": {},
     "output_type": "execute_result"
    },
    {
     "data": {
      "image/png": "[encoded data removed]",
      "text/plain": [
       "<Figure size 640x480 with 1 Axes>"
      ]
     },
     "metadata": {},
     "output_type": "display_data"
    }
   ],
   "source": [
    "#Credit History & Loan Status\n",
    "sns.countplot(x='cdt_hist',hue='L_status',data=df)"
   ]
  },
  {
   "cell_type": "code",
   "execution_count": 29,
   "id": "eed0e7c7",
   "metadata": {
    "scrolled": true
   },
   "outputs": [
    {
     "data": {
      "text/plain": [
       "<AxesSubplot:xlabel='Prob_area', ylabel='count'>"
      ]
     },
     "execution_count": 29,
     "metadata": {},
     "output_type": "execute_result"
    },
    {
     "data": {
      "image/png": "[encoded data removed]",
      "text/plain": [
       "<Figure size 640x480 with 1 Axes>"
      ]
     },
     "metadata": {},
     "output_type": "display_data"
    }
   ],
   "source": [
    "#Property Area & Loan status\n",
    "sns.countplot(x='Prob_area',hue='L_status',data=df)"
   ]
  },
  {
   "cell_type": "code",
   "execution_count": 30,
   "id": "21a6a176",
   "metadata": {},
   "outputs": [
    {
     "data": {
      "text/plain": [
       "<AxesSubplot:xlabel='App_inc'>"
      ]
     },
     "execution_count": 30,
     "metadata": {},
     "output_type": "execute_result"
    },
    {
     "data": {
      "image/png": "[encoded data removed]",
      "text/plain": [
       "<Figure size 640x480 with 1 Axes>"
      ]
     },
     "metadata": {},
     "output_type": "display_data"
    }
   ],
   "source": [
    "#Applicant income & Loan Status\n",
    "sns.boxplot(x='App_inc',hue='L_status',data=df)"
   ]
  },
  {
   "cell_type": "code",
   "execution_count": 31,
   "id": "8043aa69",
   "metadata": {},
   "outputs": [
    {
     "data": {
      "image/png": "[encoded data removed]",
      "text/plain": [
       "<Figure size 640x480 with 1 Axes>"
      ]
     },
     "metadata": {},
     "output_type": "display_data"
    }
   ],
   "source": [
    "#Loan Amount & Loan Status\n",
    "sns.boxplot(y=\"L_amt\",x=\"L_status\",data=df)\n",
    "plt.grid(True)"
   ]
  },
  {
   "cell_type": "code",
   "execution_count": 32,
   "id": "e9b58e3b",
   "metadata": {},
   "outputs": [
    {
     "data": {
      "image/png": "[encoded data removed]",
      "text/plain": [
       "<Figure size 640x480 with 1 Axes>"
      ]
     },
     "metadata": {},
     "output_type": "display_data"
    }
   ],
   "source": [
    "#Loan Amount term  & Loan Status\n",
    "sns.boxplot(y=\"amtterm\",x=\"L_status\",data=df)\n",
    "plt.grid(True)"
   ]
  },
  {
   "cell_type": "markdown",
   "id": "fc0cf5f6",
   "metadata": {},
   "source": [
    "<h2><font color=red>SEPARATING THE DATA & LABEL"
   ]
  },
  {
   "cell_type": "code",
   "execution_count": 33,
   "id": "2b474a8c",
   "metadata": {},
   "outputs": [],
   "source": [
    "X=df.drop(columns=['L_id','L_status'],axis=1)"
   ]
  },
  {
   "cell_type": "code",
   "execution_count": 34,
   "id": "ca4f4776",
   "metadata": {},
   "outputs": [],
   "source": [
    "y=df['L_status']"
   ]
  },
  {
   "cell_type": "code",
   "execution_count": 35,
   "id": "0ce9ff9c",
   "metadata": {},
   "outputs": [
    {
     "name": "stdout",
     "output_type": "stream",
     "text": [
      "     Sex  Marr  Edu  self_emp  App_inc  Coapp_inc  L_amt  amtterm  cdt_hist  \\\n",
      "1      1     1    1         0     4583     1508.0  128.0    360.0       1.0   \n",
      "2      1     1    1         1     3000        0.0   66.0    360.0       1.0   \n",
      "3      1     1    0         0     2583     2358.0  120.0    360.0       1.0   \n",
      "4      1     0    1         0     6000        0.0  141.0    360.0       1.0   \n",
      "5      1     1    1         1     5417     4196.0  267.0    360.0       1.0   \n",
      "..   ...   ...  ...       ...      ...        ...    ...      ...       ...   \n",
      "609    0     0    1         0     2900        0.0   71.0    360.0       1.0   \n",
      "610    1     1    1         0     4106        0.0   40.0    180.0       1.0   \n",
      "611    1     1    1         0     8072      240.0  253.0    360.0       1.0   \n",
      "612    1     1    1         0     7583        0.0  187.0    360.0       1.0   \n",
      "613    0     0    1         1     4583        0.0  133.0    360.0       0.0   \n",
      "\n",
      "     Prob_area  Depen_1  Depen_2  Depen_3+  \n",
      "1            0        1        0         0  \n",
      "2            2        0        0         0  \n",
      "3            2        0        0         0  \n",
      "4            2        0        0         0  \n",
      "5            2        0        1         0  \n",
      "..         ...      ...      ...       ...  \n",
      "609          0        0        0         0  \n",
      "610          0        0        0         1  \n",
      "611          2        1        0         0  \n",
      "612          2        0        1         0  \n",
      "613          1        0        0         0  \n",
      "\n",
      "[480 rows x 13 columns]\n"
     ]
    }
   ],
   "source": [
    "print(X)"
   ]
  },
  {
   "cell_type": "code",
   "execution_count": 36,
   "id": "94b2775c",
   "metadata": {},
   "outputs": [
    {
     "name": "stdout",
     "output_type": "stream",
     "text": [
      "1      0\n",
      "2      1\n",
      "3      1\n",
      "4      1\n",
      "5      1\n",
      "      ..\n",
      "609    1\n",
      "610    1\n",
      "611    1\n",
      "612    1\n",
      "613    0\n",
      "Name: L_status, Length: 480, dtype: int64\n"
     ]
    }
   ],
   "source": [
    "print(y)"
   ]
  },
  {
   "cell_type": "markdown",
   "id": "086a7729",
   "metadata": {},
   "source": [
    "<H2><FONT COLOR=RED>TRAIN TEST SPLIT"
   ]
  },
  {
   "cell_type": "code",
   "execution_count": 37,
   "id": "378f3ac5",
   "metadata": {},
   "outputs": [],
   "source": [
    "Xtrain,Xtest,ytrain,ytest=model_selection.train_test_split(X,y,test_size=.1,random_state=42)"
   ]
  },
  {
   "cell_type": "code",
   "execution_count": 38,
   "id": "f7734b69",
   "metadata": {},
   "outputs": [
    {
     "name": "stdout",
     "output_type": "stream",
     "text": [
      "(480, 13) (432, 13) (48, 13)\n"
     ]
    }
   ],
   "source": [
    "print(X.shape,Xtrain.shape,Xtest.shape)"
   ]
  },
  {
   "cell_type": "markdown",
   "id": "c4a92ceb",
   "metadata": {},
   "source": [
    "<H2><FONT COLOR=RED>TRAINING THE MODEL"
   ]
  },
  {
   "cell_type": "code",
   "execution_count": 39,
   "id": "94131923",
   "metadata": {},
   "outputs": [],
   "source": [
    "model=svm.SVC()"
   ]
  },
  {
   "cell_type": "code",
   "execution_count": 40,
   "id": "15adcd8b",
   "metadata": {},
   "outputs": [
    {
     "data": {
      "text/plain": [
       "SVC()"
      ]
     },
     "execution_count": 40,
     "metadata": {},
     "output_type": "execute_result"
    }
   ],
   "source": [
    "#Training the support vector machine model\n",
    "model.fit(Xtrain, ytrain)"
   ]
  },
  {
   "cell_type": "markdown",
   "id": "50ad420a",
   "metadata": {},
   "source": [
    "<H2><FONT COLOR=RED>MODEL EVOLUTION"
   ]
  },
  {
   "cell_type": "code",
   "execution_count": 41,
   "id": "25c2e1a9",
   "metadata": {},
   "outputs": [
    {
     "name": "stdout",
     "output_type": "stream",
     "text": [
      "Accuracy: 0.7013888888888888\n",
      "Precision: 0.6993006993006993\n",
      "Recall: 1.0\n",
      "F1 Score: 0.823045267489712\n"
     ]
    }
   ],
   "source": [
    " #Accuracy score on training data\n",
    "accuracy = accuracy_score(ytrain, model.predict(Xtrain))\n",
    "precision = precision_score(ytrain, model.predict(Xtrain))\n",
    "recall = recall_score(ytrain, model.predict(Xtrain))\n",
    "f1 = f1_score(ytrain, model.predict(Xtrain))\n",
    "print(\"Accuracy:\", accuracy)\n",
    "print(\"Precision:\", precision)\n",
    "print(\"Recall:\", recall)\n",
    "print(\"F1 Score:\", f1)"
   ]
  },
  {
   "cell_type": "code",
   "execution_count": 42,
   "id": "8594a47e",
   "metadata": {},
   "outputs": [
    {
     "name": "stdout",
     "output_type": "stream",
     "text": [
      "Accuracy: 0.6666666666666666\n",
      "Precision: 0.6666666666666666\n",
      "Recall: 1.0\n",
      "F1 Score: 0.8\n"
     ]
    }
   ],
   "source": [
    "#Accuracy score on test data\n",
    "y_pred = model.predict(Xtest)\n",
    "accuracy = accuracy_score(ytest, y_pred)   #for y\n",
    "precision = precision_score(ytest, y_pred)\n",
    "recall = recall_score(ytest, y_pred)\n",
    "f1 = f1_score(ytest, y_pred)\n",
    "print(\"Accuracy:\", accuracy)\n",
    "print(\"Precision:\", precision)\n",
    "print(\"Recall:\", recall)\n",
    "print(\"F1 Score:\", f1)"
   ]
  },
  {
   "cell_type": "markdown",
   "id": "a5d6e666",
   "metadata": {},
   "source": [
    "<H2><FONT COLOR=RED>DECISION TREE"
   ]
  },
  {
   "cell_type": "code",
   "execution_count": 43,
   "id": "288f5333",
   "metadata": {},
   "outputs": [],
   "source": [
    "model=tree.DecisionTreeClassifier(random_state=42)\n",
    "model.fit(Xtrain,ytrain)\n",
    "predtrain=model.predict(Xtrain)\n",
    "predtest=model.predict(Xtest)"
   ]
  },
  {
   "cell_type": "code",
   "execution_count": 44,
   "id": "f5159833",
   "metadata": {},
   "outputs": [],
   "source": [
    "def printscores(act,pred):\n",
    "    print(\"accuracy :\",metrics.accuracy_score(act,pred))\n",
    "    print(\"recall :\",metrics.recall_score(act,pred))\n",
    "    print(\"precision :\",metrics.precision_score(act,pred))\n",
    "    print(\"f1 :\",metrics.f1_score(act,pred))\n",
    "    print(\"AUC :\",metrics.roc_auc_score(act,pred))"
   ]
  },
  {
   "cell_type": "code",
   "execution_count": 45,
   "id": "4a6ce162",
   "metadata": {},
   "outputs": [
    {
     "name": "stdout",
     "output_type": "stream",
     "text": [
      "TRAINING METRICS:-\n",
      "accuracy : 1.0\n",
      "recall : 1.0\n",
      "precision : 1.0\n",
      "f1 : 1.0\n",
      "AUC : 1.0\n",
      "============================\n",
      "TEST METRICS:-\n",
      "accuracy : 0.75\n",
      "recall : 0.90625\n",
      "precision : 0.7631578947368421\n",
      "f1 : 0.8285714285714286\n",
      "AUC : 0.671875\n"
     ]
    }
   ],
   "source": [
    "print(\"TRAINING METRICS:-\")\n",
    "printscores(ytrain,predtrain)\n",
    "print(\"============================\")\n",
    "print(\"TEST METRICS:-\")\n",
    "printscores(ytest,predtest)"
   ]
  },
  {
   "cell_type": "code",
   "execution_count": 46,
   "id": "9273f3d2",
   "metadata": {},
   "outputs": [
    {
     "name": "stderr",
     "output_type": "stream",
     "text": [
      "C:\\Users\\manami sarkar\\anaconda3\\lib\\site-packages\\sklearn\\base.py:443: UserWarning: X has feature names, but SelectFromModel was fitted without feature names\n",
      "  warnings.warn(\n"
     ]
    }
   ],
   "source": [
    "# Get the feature names\n",
    "feature_names = X.columns\n",
    "\n",
    "# Instantiate and train a Decision Tree classifier\n",
    "model = DecisionTreeClassifier(random_state=42)\n",
    "model.fit(X, y)\n",
    "\n",
    "# Create a feature selector based on feature importances\n",
    "selector = SelectFromModel(model, threshold=0.05, prefit=True)  # Adjust the threshold as needed\n",
    "\n",
    "# Transform the feature matrix to select important features\n",
    "X_selected = selector.transform(X)\n",
    "\n",
    "# Get the selected feature indices\n",
    "selected_indices = selector.get_support(indices=True)\n",
    "\n",
    "# Get the selected feature names\n",
    "selected_features = feature_names[selected_indices]\n",
    "\n",
    "# Create a new DataFrame with only the selected features\n",
    "df_selected = df[selected_features]"
   ]
  },
  {
   "cell_type": "code",
   "execution_count": 47,
   "id": "da9fed51",
   "metadata": {},
   "outputs": [
    {
     "name": "stdout",
     "output_type": "stream",
     "text": [
      "Selected Features:\n",
      "App_inc\n",
      "Coapp_inc\n",
      "L_amt\n",
      "cdt_hist\n"
     ]
    }
   ],
   "source": [
    "# Print the selected feature names\n",
    "print(\"Selected Features:\")\n",
    "for feature in selected_features:\n",
    "    print(feature)"
   ]
  },
  {
   "cell_type": "code",
   "execution_count": 48,
   "id": "f6e4642d",
   "metadata": {},
   "outputs": [],
   "source": [
    "X_selected = df_selected.values  # Convert the selected features DataFrame to numpy array\n",
    "y = df['L_status'].values  # Get the target variable as numpy array"
   ]
  },
  {
   "cell_type": "code",
   "execution_count": 49,
   "id": "e49b0639",
   "metadata": {},
   "outputs": [
    {
     "data": {
      "text/plain": [
       "DecisionTreeClassifier(random_state=42)"
      ]
     },
     "execution_count": 49,
     "metadata": {},
     "output_type": "execute_result"
    }
   ],
   "source": [
    "Xtrain_selected, Xtest_selected, ytrain, ytest = train_test_split(X_selected, y, test_size=0.1, random_state=42)\n",
    "model_selected = DecisionTreeClassifier(random_state=42)\n",
    "model_selected.fit(Xtrain_selected, ytrain)"
   ]
  },
  {
   "cell_type": "code",
   "execution_count": 50,
   "id": "ed45140a",
   "metadata": {},
   "outputs": [],
   "source": [
    "predtrain_selected = model_selected.predict(Xtrain_selected)\n",
    "predtest_selected = model_selected.predict(Xtest_selected)"
   ]
  },
  {
   "cell_type": "code",
   "execution_count": 51,
   "id": "910dbe83",
   "metadata": {},
   "outputs": [
    {
     "name": "stdout",
     "output_type": "stream",
     "text": [
      "Training Metrics:\n",
      "Accuracy: 1.0\n",
      "Precision: 1.0\n",
      "Recall: 1.0\n",
      "F1 Score: 1.0\n",
      "============================\n",
      "Testing Metrics:\n",
      "Accuracy: 0.7916666666666666\n",
      "Precision: 0.8055555555555556\n",
      "Recall: 0.90625\n",
      "F1 Score: 0.8529411764705882\n"
     ]
    }
   ],
   "source": [
    "from sklearn.metrics import accuracy_score, precision_score, recall_score, f1_score\n",
    "\n",
    "accuracy_train = accuracy_score(ytrain, predtrain_selected)\n",
    "precision_train = precision_score(ytrain, predtrain_selected)\n",
    "recall_train = recall_score(ytrain, predtrain_selected)\n",
    "f1_train = f1_score(ytrain, predtrain_selected)\n",
    "\n",
    "accuracy_test = accuracy_score(ytest, predtest_selected)\n",
    "precision_test = precision_score(ytest, predtest_selected)\n",
    "recall_test = recall_score(ytest, predtest_selected)\n",
    "f1_test = f1_score(ytest, predtest_selected)\n",
    "\n",
    "print(\"Training Metrics:\")\n",
    "print(\"Accuracy:\", accuracy_train)\n",
    "print(\"Precision:\", precision_train)\n",
    "print(\"Recall:\", recall_train)\n",
    "print(\"F1 Score:\", f1_train)\n",
    "print(\"============================\")\n",
    "print(\"Testing Metrics:\")\n",
    "print(\"Accuracy:\", accuracy_test)\n",
    "print(\"Precision:\", precision_test)\n",
    "print(\"Recall:\", recall_test)\n",
    "print(\"F1 Score:\", f1_test)"
   ]
  },
  {
   "cell_type": "markdown",
   "id": "b964ff9e",
   "metadata": {},
   "source": [
    "<H2><FONT COLOR=RED>LOGISTIC REGRESSION"
   ]
  },
  {
   "cell_type": "code",
   "execution_count": 52,
   "id": "0392a2a4",
   "metadata": {},
   "outputs": [
    {
     "name": "stdout",
     "output_type": "stream",
     "text": [
      "Logistic Regression - Training Metrics:\n",
      "Accuracy: 0.8101851851851852\n",
      "Precision: 0.7961956521739131\n",
      "Recall: 0.9766666666666667\n",
      "F1 Score: 0.877245508982036\n",
      "============================\n",
      "Logistic Regression - Testing Metrics:\n",
      "Accuracy: 0.8125\n",
      "Precision: 0.7804878048780488\n",
      "Recall: 1.0\n",
      "F1 Score: 0.8767123287671234\n"
     ]
    }
   ],
   "source": [
    "from sklearn.linear_model import LogisticRegression#OK\n",
    "\n",
    "# Instantiate and train a Logistic Regression model\n",
    "model_lr_selected = LogisticRegression(random_state=42)\n",
    "model_lr_selected.fit(Xtrain_selected, ytrain)\n",
    "\n",
    "# Make predictions on the training and testing sets\n",
    "predtrain_lr_selected = model_lr_selected.predict(Xtrain_selected)\n",
    "predtest_lr_selected = model_lr_selected.predict(Xtest_selected)\n",
    "\n",
    "# Evaluate the model using the selected features\n",
    "accuracy_train_lr = accuracy_score(ytrain, predtrain_lr_selected)\n",
    "precision_train_lr = precision_score(ytrain, predtrain_lr_selected)\n",
    "recall_train_lr = recall_score(ytrain, predtrain_lr_selected)\n",
    "f1_train_lr = f1_score(ytrain, predtrain_lr_selected)\n",
    "\n",
    "accuracy_test_lr = accuracy_score(ytest, predtest_lr_selected)\n",
    "precision_test_lr = precision_score(ytest, predtest_lr_selected)\n",
    "recall_test_lr = recall_score(ytest, predtest_lr_selected)\n",
    "f1_test_lr = f1_score(ytest, predtest_lr_selected)\n",
    "\n",
    "print(\"Logistic Regression - Training Metrics:\")\n",
    "print(\"Accuracy:\", accuracy_train_lr)\n",
    "print(\"Precision:\", precision_train_lr)\n",
    "print(\"Recall:\", recall_train_lr)\n",
    "print(\"F1 Score:\", f1_train_lr)\n",
    "print(\"============================\")\n",
    "print(\"Logistic Regression - Testing Metrics:\")\n",
    "print(\"Accuracy:\", accuracy_test_lr)\n",
    "print(\"Precision:\", precision_test_lr)\n",
    "print(\"Recall:\", recall_test_lr)\n",
    "print(\"F1 Score:\", f1_test_lr)"
   ]
  },
  {
   "cell_type": "markdown",
   "id": "c36f172b",
   "metadata": {},
   "source": [
    "<h2><FONT COLOR=RED>RANDOM FOREST"
   ]
  },
  {
   "cell_type": "code",
   "execution_count": 53,
   "id": "5475fc1a",
   "metadata": {},
   "outputs": [],
   "source": [
    "model=ensemble.RandomForestClassifier(random_state=42,n_estimators=200)"
   ]
  },
  {
   "cell_type": "code",
   "execution_count": 54,
   "id": "cb03641b",
   "metadata": {},
   "outputs": [
    {
     "data": {
      "text/plain": [
       "RandomForestClassifier(n_estimators=200, random_state=42)"
      ]
     },
     "execution_count": 54,
     "metadata": {},
     "output_type": "execute_result"
    }
   ],
   "source": [
    "model.fit(Xtrain_selected,ytrain)"
   ]
  },
  {
   "cell_type": "code",
   "execution_count": 55,
   "id": "ff36175d",
   "metadata": {},
   "outputs": [
    {
     "data": {
      "text/plain": [
       "200"
      ]
     },
     "execution_count": 55,
     "metadata": {},
     "output_type": "execute_result"
    }
   ],
   "source": [
    "len(model.estimators_)"
   ]
  },
  {
   "cell_type": "code",
   "execution_count": 56,
   "id": "b80f97e3",
   "metadata": {},
   "outputs": [
    {
     "name": "stdout",
     "output_type": "stream",
     "text": [
      "TRANING METRICS:-\n",
      "accuracy : 1.0\n",
      "recall : 1.0\n",
      "precision : 1.0\n",
      "f1 : 1.0\n",
      "AUC : 1.0\n",
      "============================\n",
      "TEST METRICS:-\n",
      "accuracy : 0.7916666666666666\n",
      "recall : 0.9375\n",
      "precision : 0.7894736842105263\n",
      "f1 : 0.8571428571428572\n",
      "AUC : 0.71875\n"
     ]
    }
   ],
   "source": [
    "predtrain=model.predict(Xtrain_selected)\n",
    "predtest=model.predict(Xtest_selected)\n",
    "print(\"TRANING METRICS:-\")\n",
    "printscores(ytrain,predtrain)\n",
    "print(\"============================\")\n",
    "print(\"TEST METRICS:-\")\n",
    "printscores(ytest,predtest)"
   ]
  },
  {
   "cell_type": "code",
   "execution_count": 57,
   "id": "bc01aaa2",
   "metadata": {},
   "outputs": [
    {
     "name": "stdout",
     "output_type": "stream",
     "text": [
      "Random Forest - Training Metrics:\n",
      "Accuracy: 1.0\n",
      "Precision: 1.0\n",
      "Recall: 1.0\n",
      "F1 Score: 1.0\n",
      "============================\n",
      "Random Forest - Testing Metrics:\n",
      "Accuracy: 0.7916666666666666\n",
      "Precision: 0.7894736842105263\n",
      "Recall: 0.9375\n",
      "F1 Score: 0.8571428571428572\n"
     ]
    }
   ],
   "source": [
    "from sklearn.ensemble import RandomForestClassifier\n",
    "\n",
    "# Instantiate and train a Random Forest model\n",
    "model_rf_selected = RandomForestClassifier(random_state=42)\n",
    "model_rf_selected.fit(Xtrain_selected, ytrain)\n",
    "\n",
    "# Make predictions on the training and testing sets\n",
    "predtrain_rf_selected = model_rf_selected.predict(Xtrain_selected)\n",
    "predtest_rf_selected = model_rf_selected.predict(Xtest_selected)\n",
    "\n",
    "# Evaluate the model using the selected features\n",
    "accuracy_train_rf = accuracy_score(ytrain, predtrain_rf_selected)\n",
    "precision_train_rf = precision_score(ytrain, predtrain_rf_selected)\n",
    "recall_train_rf = recall_score(ytrain, predtrain_rf_selected)\n",
    "f1_train_rf = f1_score(ytrain, predtrain_rf_selected)\n",
    "\n",
    "accuracy_test_rf = accuracy_score(ytest, predtest_rf_selected)\n",
    "precision_test_rf = precision_score(ytest, predtest_rf_selected)\n",
    "recall_test_rf = recall_score(ytest, predtest_rf_selected)\n",
    "f1_test_rf = f1_score(ytest, predtest_rf_selected)\n",
    "\n",
    "print(\"Random Forest - Training Metrics:\")\n",
    "print(\"Accuracy:\", accuracy_train_rf)\n",
    "print(\"Precision:\", precision_train_rf)\n",
    "print(\"Recall:\", recall_train_rf)\n",
    "print(\"F1 Score:\", f1_train_rf)\n",
    "print(\"============================\")\n",
    "print(\"Random Forest - Testing Metrics:\")\n",
    "print(\"Accuracy:\", accuracy_test_rf)\n",
    "print(\"Precision:\", precision_test_rf)\n",
    "print(\"Recall:\", recall_test_rf)\n",
    "print(\"F1 Score:\", f1_test_rf)"
   ]
  },
  {
   "cell_type": "markdown",
   "id": "1c1f8a73",
   "metadata": {},
   "source": [
    "<H2><FONT COLOR=RED>SUMMARY TABLE"
   ]
  },
  {
   "cell_type": "code",
   "execution_count": 58,
   "id": "e79a1062",
   "metadata": {},
   "outputs": [
    {
     "name": "stdout",
     "output_type": "stream",
     "text": [
      "                        Model  Accuracy  Precision    Recall  F1 Score\n",
      "0               Decision Tree  1.000000   1.000000  1.000000  1.000000\n",
      "1        Decision Tree (Test)  0.791667   0.805556  0.906250  0.852941\n",
      "2         Logistic Regression  0.810185   0.796196  0.976667  0.877246\n",
      "3  Logistic Regression (Test)  0.812500   0.780488  1.000000  0.876712\n",
      "4               Random Forest  1.000000   1.000000  1.000000  1.000000\n",
      "5        Random Forest (Test)  0.791667   0.789474  0.937500  0.857143\n"
     ]
    }
   ],
   "source": [
    "# Create a summary table\n",
    "results = pd.DataFrame(columns=['Model', 'Accuracy', 'Precision', 'Recall', 'F1 Score'])\n",
    "results.loc[0] = ['Decision Tree', accuracy_train, precision_train, recall_train, f1_train]\n",
    "results.loc[1] = ['Decision Tree (Test)', accuracy_test, precision_test, recall_test, f1_test]\n",
    "results.loc[2] = ['Logistic Regression', accuracy_train_lr, precision_train_lr, recall_train_lr, f1_train_lr]\n",
    "results.loc[3] = ['Logistic Regression (Test)', accuracy_test_lr, precision_test_lr, recall_test_lr, f1_test_lr]\n",
    "results.loc[4] = ['Random Forest', accuracy_train_rf, precision_train_rf, recall_train_rf, f1_train_rf]\n",
    "results.loc[5] = ['Random Forest (Test)', accuracy_test_rf, precision_test_rf, recall_test_rf, f1_test_rf]\n",
    "\n",
    "# Print the summary table\n",
    "print(results)"
   ]
  },
  {
   "cell_type": "code",
   "execution_count": 59,
   "id": "42a1e423",
   "metadata": {},
   "outputs": [
    {
     "name": "stdout",
     "output_type": "stream",
     "text": [
      "Best Parameters: {'max_depth': 5, 'min_samples_split': 2, 'n_estimators': 300}\n"
     ]
    }
   ],
   "source": [
    "from sklearn.model_selection import GridSearchCV\n",
    "from sklearn.ensemble import RandomForestClassifier\n",
    "\n",
    "# Define the hyperparameter grid for tuning\n",
    "param_grid = {\n",
    "    'n_estimators': [100, 200, 300],  # Number of trees in the forest\n",
    "    'max_depth': [5, 10, 15],  # Maximum depth of each tree\n",
    "    'min_samples_split': [2, 4, 6],  # Minimum number of samples required to split an internal node\n",
    "}\n",
    "\n",
    "# Instantiate the model\n",
    "model = RandomForestClassifier(random_state=42)\n",
    "\n",
    "# Create the GridSearchCV object\n",
    "grid_search = GridSearchCV(model, param_grid, cv=5, scoring='accuracy')\n",
    "\n",
    "# Fit the GridSearchCV object to the training data\n",
    "grid_search.fit(Xtrain_selected, ytrain)\n",
    "\n",
    "# Get the best parameters and best model\n",
    "best_params = grid_search.best_params_\n",
    "best_model = grid_search.best_estimator_\n",
    "\n",
    "# Print the best parameters\n",
    "print(\"Best Parameters:\", best_params)\n"
   ]
  },
  {
   "cell_type": "code",
   "execution_count": 60,
   "id": "c900e592",
   "metadata": {},
   "outputs": [
    {
     "name": "stdout",
     "output_type": "stream",
     "text": [
      "accuracy : 0.8333333333333334\n",
      "recall : 0.9866666666666667\n",
      "precision : 0.8131868131868132\n",
      "f1 : 0.8915662650602411\n",
      "AUC : 0.7357575757575758\n",
      "###################################\n",
      "accuracy : 0.8125\n",
      "recall : 1.0\n",
      "precision : 0.7804878048780488\n",
      "f1 : 0.8767123287671234\n",
      "AUC : 0.71875\n"
     ]
    }
   ],
   "source": [
    "model = RandomForestClassifier(random_state=42,max_depth=5,min_samples_split=2,n_estimators=300)\n",
    "model.fit(Xtrain_selected,ytrain)\n",
    "predtrain=model.predict(Xtrain_selected)\n",
    "predtest=model.predict(Xtest_selected)\n",
    "printscores(ytrain,predtrain)\n",
    "print(\"###################################\")\n",
    "printscores(ytest,predtest)"
   ]
  },
  {
   "cell_type": "markdown",
   "id": "d608645c",
   "metadata": {},
   "source": [
    "<H2><FONT COLOR=RED>FIND OUT THE SCORE"
   ]
  },
  {
   "cell_type": "code",
   "execution_count": 61,
   "id": "26e07c53",
   "metadata": {
    "scrolled": true
   },
   "outputs": [
    {
     "name": "stdout",
     "output_type": "stream",
     "text": [
      "Best Parameters: {'max_depth': 2}\n",
      "Best Scores  0.7948840579710146\n"
     ]
    },
    {
     "data": {
      "text/html": [
       "<div>\n",
       "<style scoped>\n",
       "    .dataframe tbody tr th:only-of-type {\n",
       "        vertical-align: middle;\n",
       "    }\n",
       "\n",
       "    .dataframe tbody tr th {\n",
       "        vertical-align: top;\n",
       "    }\n",
       "\n",
       "    .dataframe thead th {\n",
       "        text-align: right;\n",
       "    }\n",
       "</style>\n",
       "<table border=\"1\" class=\"dataframe\">\n",
       "  <thead>\n",
       "    <tr style=\"text-align: right;\">\n",
       "      <th></th>\n",
       "      <th>params</th>\n",
       "      <th>mean_train_score</th>\n",
       "      <th>mean_test_score</th>\n",
       "    </tr>\n",
       "  </thead>\n",
       "  <tbody>\n",
       "    <tr>\n",
       "      <th>0</th>\n",
       "      <td>{'max_depth': 2}</td>\n",
       "      <td>0.796266</td>\n",
       "      <td>0.794884</td>\n",
       "    </tr>\n",
       "    <tr>\n",
       "      <th>1</th>\n",
       "      <td>{'max_depth': 3}</td>\n",
       "      <td>0.800784</td>\n",
       "      <td>0.793740</td>\n",
       "    </tr>\n",
       "    <tr>\n",
       "      <th>2</th>\n",
       "      <td>{'max_depth': 4}</td>\n",
       "      <td>0.808053</td>\n",
       "      <td>0.791260</td>\n",
       "    </tr>\n",
       "    <tr>\n",
       "      <th>3</th>\n",
       "      <td>{'max_depth': 5}</td>\n",
       "      <td>0.818506</td>\n",
       "      <td>0.790673</td>\n",
       "    </tr>\n",
       "    <tr>\n",
       "      <th>4</th>\n",
       "      <td>{'max_depth': 6}</td>\n",
       "      <td>0.832680</td>\n",
       "      <td>0.786536</td>\n",
       "    </tr>\n",
       "    <tr>\n",
       "      <th>5</th>\n",
       "      <td>{'max_depth': 7}</td>\n",
       "      <td>0.848806</td>\n",
       "      <td>0.787533</td>\n",
       "    </tr>\n",
       "  </tbody>\n",
       "</table>\n",
       "</div>"
      ],
      "text/plain": [
       "             params  mean_train_score  mean_test_score\n",
       "0  {'max_depth': 2}          0.796266         0.794884\n",
       "1  {'max_depth': 3}          0.800784         0.793740\n",
       "2  {'max_depth': 4}          0.808053         0.791260\n",
       "3  {'max_depth': 5}          0.818506         0.790673\n",
       "4  {'max_depth': 6}          0.832680         0.786536\n",
       "5  {'max_depth': 7}          0.848806         0.787533"
      ]
     },
     "execution_count": 61,
     "metadata": {},
     "output_type": "execute_result"
    }
   ],
   "source": [
    "from sklearn.model_selection import GridSearchCV\n",
    "from sklearn.ensemble import RandomForestClassifier\n",
    "\n",
    "# Define the hyperparameter grid for tuning\n",
    "param_grid = {\n",
    "    'max_depth': [2,3,4,5,6,7]  # Number of trees in the forest\n",
    "    \n",
    "}\n",
    "\n",
    "#'max_depth': [5, 10, 15],  # Maximum depth of each tree   'min_samples_split': [2, 4, 6],  # Minimum number of samples required to split an internal node\n",
    "# Instantiate the model\n",
    "model = RandomForestClassifier(random_state=42)\n",
    "\n",
    "# Create the GridSearchCV object\n",
    "grid_search = GridSearchCV(model, param_grid, cv=5, scoring='precision',return_train_score=True)\n",
    "\n",
    "# Fit the GridSearchCV object to the training data\n",
    "grid_search.fit(Xtrain_selected, ytrain)\n",
    "\n",
    "# Get the best parameters and best model\n",
    "best_params = grid_search.best_params_\n",
    "best_model = grid_search.best_estimator_\n",
    "\n",
    "# Print the best parameters\n",
    "print(\"Best Parameters:\", best_params)\n",
    "print(\"Best Scores \",grid_search.best_score_)\n",
    "\n",
    "cdf=pd.DataFrame(grid_search.cv_results_)\n",
    "cdf[['params','mean_train_score','mean_test_score']]"
   ]
  },
  {
   "cell_type": "markdown",
   "id": "1e6bf35f",
   "metadata": {},
   "source": [
    "<H2><FONT COLOR=RED>USING DIFFERENT TYPE OF PARAMETERS"
   ]
  },
  {
   "cell_type": "code",
   "execution_count": 62,
   "id": "8327c698",
   "metadata": {},
   "outputs": [
    {
     "name": "stdout",
     "output_type": "stream",
     "text": [
      "Best Parameters: {'n_estimators': 1000}\n",
      "Best Scores  0.8966666666666667\n"
     ]
    }
   ],
   "source": [
    "from sklearn.model_selection import GridSearchCV\n",
    "from sklearn.ensemble import RandomForestClassifier\n",
    "\n",
    "# Define the hyperparameter grid for tuning\n",
    "param_grid = {\n",
    "    'n_estimators': [900,1000,1300,1400]  # Number of trees in the forest\n",
    "    \n",
    "}\n",
    "\n",
    "#'max_depth': [5, 10, 15],  # Maximum depth of each tree   'min_samples_split': [2, 4, 6],  # Minimum number of samples required to split an internal node\n",
    "# Instantiate the model\n",
    "model = RandomForestClassifier(random_state=42)\n",
    "\n",
    "# Create the GridSearchCV object\n",
    "grid_search = GridSearchCV(model, param_grid, cv=5, scoring='recall',return_train_score=True)\n",
    "\n",
    "# Fit the GridSearchCV object to the training data\n",
    "grid_search.fit(Xtrain_selected, ytrain)\n",
    "\n",
    "# Get the best parameters and best model\n",
    "best_params = grid_search.best_params_\n",
    "best_model = grid_search.best_estimator_\n",
    "\n",
    "# Print the best parameters\n",
    "print(\"Best Parameters:\", best_params)\n",
    "print(\"Best Scores \",grid_search.best_score_)"
   ]
  },
  {
   "cell_type": "code",
   "execution_count": 63,
   "id": "c95e6290",
   "metadata": {},
   "outputs": [
    {
     "name": "stdout",
     "output_type": "stream",
     "text": [
      "accuracy : 0.8078703703703703\n",
      "recall : 0.9766666666666667\n",
      "precision : 0.7940379403794038\n",
      "f1 : 0.8759342301943199\n",
      "AUC : 0.7004545454545454\n",
      "###################################\n",
      "accuracy : 0.8125\n",
      "recall : 1.0\n",
      "precision : 0.7804878048780488\n",
      "f1 : 0.8767123287671234\n",
      "AUC : 0.71875\n"
     ]
    }
   ],
   "source": [
    "model = RandomForestClassifier(random_state=42,max_depth=2,n_estimators=1000)\n",
    "model.fit(Xtrain_selected,ytrain)\n",
    "predtrain=model.predict(Xtrain_selected)\n",
    "predtest=model.predict(Xtest_selected)\n",
    "printscores(ytrain,predtrain)\n",
    "print(\"###################################\")\n",
    "printscores(ytest,predtest)"
   ]
  },
  {
   "cell_type": "code",
   "execution_count": 64,
   "id": "bb249f1e",
   "metadata": {},
   "outputs": [
    {
     "name": "stdout",
     "output_type": "stream",
     "text": [
      "Best Parameters: {'n_estimators': 1300}\n",
      "Best Scores  0.8966666666666667\n"
     ]
    }
   ],
   "source": [
    "from sklearn.model_selection import GridSearchCV\n",
    "from sklearn.ensemble import RandomForestClassifier\n",
    "\n",
    "# Define the hyperparameter grid for tuning\n",
    "param_grid = {\n",
    "    'n_estimators': [900,1300,1600,2000]  # Number of trees in the forest\n",
    "    \n",
    "}\n",
    "\n",
    "#'max_depth': [5, 10, 15],  # Maximum depth of each tree   'min_samples_split': [2, 4, 6],  # Minimum number of samples required to split an internal node\n",
    "# Instantiate the model\n",
    "model = RandomForestClassifier(random_state=42)\n",
    "\n",
    "# Create the GridSearchCV object\n",
    "grid_search = GridSearchCV(model, param_grid, cv=5, scoring='recall',return_train_score=True)\n",
    "\n",
    "# Fit the GridSearchCV object to the training data\n",
    "grid_search.fit(Xtrain_selected, ytrain)\n",
    "\n",
    "# Get the best parameters and best model\n",
    "best_params = grid_search.best_params_\n",
    "best_model = grid_search.best_estimator_\n",
    "\n",
    "# Print the best parameters\n",
    "print(\"Best Parameters:\", best_params)\n",
    "print(\"Best Scores \",grid_search.best_score_)"
   ]
  },
  {
   "cell_type": "code",
   "execution_count": 65,
   "id": "89153b61",
   "metadata": {},
   "outputs": [
    {
     "name": "stdout",
     "output_type": "stream",
     "text": [
      "accuracy : 0.8078703703703703\n",
      "recall : 0.9766666666666667\n",
      "precision : 0.7940379403794038\n",
      "f1 : 0.8759342301943199\n",
      "AUC : 0.7004545454545454\n",
      "###################################\n",
      "accuracy : 0.8125\n",
      "recall : 1.0\n",
      "precision : 0.7804878048780488\n",
      "f1 : 0.8767123287671234\n",
      "AUC : 0.71875\n"
     ]
    }
   ],
   "source": [
    "model = RandomForestClassifier(random_state=42,max_depth=2,n_estimators=1300)#BEST0\n",
    "model.fit(Xtrain_selected,ytrain)\n",
    "predtrain=model.predict(Xtrain_selected)\n",
    "predtest=model.predict(Xtest_selected)\n",
    "printscores(ytrain,predtrain)\n",
    "print(\"###################################\")\n",
    "printscores(ytest,predtest)"
   ]
  },
  {
   "cell_type": "code",
   "execution_count": 66,
   "id": "12488e32",
   "metadata": {},
   "outputs": [
    {
     "name": "stderr",
     "output_type": "stream",
     "text": [
      "C:\\Users\\manami sarkar\\anaconda3\\lib\\site-packages\\sklearn\\neighbors\\_classification.py:228: FutureWarning: Unlike other reduction functions (e.g. `skew`, `kurtosis`), the default behavior of `mode` typically preserves the axis it acts along. In SciPy 1.11.0, this behavior will change: the default value of `keepdims` will become False, the `axis` over which the statistic is taken will be eliminated, and the value None will no longer be accepted. Set `keepdims` to True or False to avoid this warning.\n",
      "  mode, _ = stats.mode(_y[neigh_ind, k], axis=1)\n"
     ]
    },
    {
     "data": {
      "text/plain": [
       "array([1, 1, 0, 1, 0, 0, 0, 1, 1, 1, 1, 0, 1, 0, 1, 1, 1, 0, 1, 1, 1, 1,\n",
       "       1, 1, 1, 1, 1, 0, 1, 1, 1, 1, 1, 1, 1, 1, 1, 1, 0, 1, 1, 1, 0, 1,\n",
       "       1, 1, 0, 1], dtype=int64)"
      ]
     },
     "execution_count": 66,
     "metadata": {},
     "output_type": "execute_result"
    }
   ],
   "source": [
    "from sklearn import neighbors\n",
    "model = neighbors.KNeighborsClassifier( ) # it has applied 'kd-tree'\n",
    "model.fit( Xtrain_selected , ytrain )\n",
    "predict_test = model.predict( Xtest_selected )\n",
    "predict_test"
   ]
  },
  {
   "cell_type": "code",
   "execution_count": 67,
   "id": "7a6a9f35",
   "metadata": {},
   "outputs": [
    {
     "name": "stdout",
     "output_type": "stream",
     "text": [
      "accuracy : 0.7337962962962963\n",
      "recall : 0.9066666666666666\n",
      "precision : 0.7576601671309192\n",
      "f1 : 0.8254931714719271\n",
      "AUC : 0.6237878787878788\n",
      "###################################\n",
      "accuracy : 0.6041666666666666\n",
      "recall : 0.78125\n",
      "precision : 0.6756756756756757\n",
      "f1 : 0.7246376811594203\n",
      "AUC : 0.515625\n"
     ]
    },
    {
     "name": "stderr",
     "output_type": "stream",
     "text": [
      "C:\\Users\\manami sarkar\\anaconda3\\lib\\site-packages\\sklearn\\neighbors\\_classification.py:228: FutureWarning: Unlike other reduction functions (e.g. `skew`, `kurtosis`), the default behavior of `mode` typically preserves the axis it acts along. In SciPy 1.11.0, this behavior will change: the default value of `keepdims` will become False, the `axis` over which the statistic is taken will be eliminated, and the value None will no longer be accepted. Set `keepdims` to True or False to avoid this warning.\n",
      "  mode, _ = stats.mode(_y[neigh_ind, k], axis=1)\n",
      "C:\\Users\\manami sarkar\\anaconda3\\lib\\site-packages\\sklearn\\neighbors\\_classification.py:228: FutureWarning: Unlike other reduction functions (e.g. `skew`, `kurtosis`), the default behavior of `mode` typically preserves the axis it acts along. In SciPy 1.11.0, this behavior will change: the default value of `keepdims` will become False, the `axis` over which the statistic is taken will be eliminated, and the value None will no longer be accepted. Set `keepdims` to True or False to avoid this warning.\n",
      "  mode, _ = stats.mode(_y[neigh_ind, k], axis=1)\n"
     ]
    }
   ],
   "source": [
    "from sklearn.neighbors import KNeighborsClassifier\n",
    "\n",
    "model = KNeighborsClassifier(n_neighbors=5)  # You can adjust the number of neighbors (k) as per your requirement\n",
    "model.fit(Xtrain_selected, ytrain)\n",
    "predtrain = model.predict(Xtrain_selected)\n",
    "predtest = model.predict(Xtest_selected)\n",
    "printscores(ytrain, predtrain)\n",
    "print(\"###################################\")\n",
    "printscores(ytest, predtest)"
   ]
  },
  {
   "cell_type": "code",
   "execution_count": null,
   "id": "db9136a6",
   "metadata": {},
   "outputs": [],
   "source": []
  },
  {
   "cell_type": "code",
   "execution_count": null,
   "id": "dfd5886b",
   "metadata": {},
   "outputs": [],
   "source": []
  },
  {
   "cell_type": "code",
   "execution_count": null,
   "id": "a803faaf",
   "metadata": {},
   "outputs": [],
   "source": []
  },
  {
   "cell_type": "code",
   "execution_count": null,
   "id": "6d8e056b",
   "metadata": {},
   "outputs": [],
   "source": []
  }
 ],
 "metadata": {
  "kernelspec": {
   "display_name": "Python 3 (ipykernel)",
   "language": "python",
   "name": "python3"
  },
  "language_info": {
   "codemirror_mode": {
    "name": "ipython",
    "version": 3
   },
   "file_extension": ".py",
   "mimetype": "text/x-python",
   "name": "python",
   "nbconvert_exporter": "python",
   "pygments_lexer": "ipython3",
   "version": "3.9.13"
  }
 },
 "nbformat": 4,
 "nbformat_minor": 5
}
